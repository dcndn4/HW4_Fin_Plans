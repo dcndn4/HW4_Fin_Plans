{
 "cells": [
  {
   "cell_type": "markdown",
   "metadata": {},
   "source": [
    "# Unit 5 - Financial Planning - Part I - Personal Financial Planner"
   ]
  },
  {
   "cell_type": "code",
   "execution_count": 18,
   "metadata": {},
   "outputs": [],
   "source": [
    "# Initial imports\n",
    "import os\n",
    "import requests\n",
    "import json\n",
    "import pandas as pd\n",
    "from dotenv import load_dotenv\n",
    "import alpaca_trade_api as tradeapi\n",
    "from MCForecastTools import MCSimulation\n",
    "\n",
    "%matplotlib inline"
   ]
  },
  {
   "cell_type": "code",
   "execution_count": 19,
   "metadata": {},
   "outputs": [
    {
     "data": {
      "text/plain": [
       "True"
      ]
     },
     "execution_count": 19,
     "metadata": {},
     "output_type": "execute_result"
    }
   ],
   "source": [
    "# Load .env enviroment variables\n",
    "load_dotenv()"
   ]
  },
  {
   "cell_type": "markdown",
   "metadata": {
    "tags": []
   },
   "source": [
    "## Part 1 - Personal Finance Planner"
   ]
  },
  {
   "cell_type": "markdown",
   "metadata": {},
   "source": [
    "### Collect Crypto Prices Using the `requests` Library"
   ]
  },
  {
   "cell_type": "code",
   "execution_count": 20,
   "metadata": {},
   "outputs": [],
   "source": [
    "# Set current amount of crypto assets\n",
    "\n",
    "my_btc=1.2\n",
    "my_eth=5.3\n"
   ]
  },
  {
   "cell_type": "code",
   "execution_count": 21,
   "metadata": {},
   "outputs": [],
   "source": [
    "# Crypto API URLs\n",
    "btc_url = \"https://api.alternative.me/v2/ticker/Bitcoin/\"\n",
    "eth_url = \"https://api.alternative.me/v2/ticker/Ethereum/\""
   ]
  },
  {
   "cell_type": "code",
   "execution_count": 22,
   "metadata": {},
   "outputs": [],
   "source": [
    "# Fetch current BTC price by executing `GET` request with url\n",
    "btc_data = requests.get(btc_url)\n",
    "\n",
    "# Fetch current ETH price by executing `GET` request with url\n",
    "eth_data = requests.get(eth_url)"
   ]
  },
  {
   "cell_type": "code",
   "execution_count": 23,
   "metadata": {},
   "outputs": [
    {
     "name": "stdout",
     "output_type": "stream",
     "text": [
      "<Response [200]>\n",
      "<Response [200]>\n"
     ]
    }
   ],
   "source": [
    "# Print `response_data variable`\n",
    "\n",
    "print(btc_data)\n",
    "print(eth_data)"
   ]
  },
  {
   "cell_type": "code",
   "execution_count": 24,
   "metadata": {},
   "outputs": [],
   "source": [
    "# Store response using `content` attribute\n",
    "btc_content = btc_data.content\n",
    "\n",
    "# Format data as JSON\n",
    "btc_now_data = btc_data.json()"
   ]
  },
  {
   "cell_type": "code",
   "execution_count": 25,
   "metadata": {},
   "outputs": [],
   "source": [
    "# Store response using `content` attribute\n",
    "eth_content = eth_data.content\n",
    "# Format data as JSON\n",
    "eth_now_data = eth_data.json()"
   ]
  },
  {
   "cell_type": "code",
   "execution_count": 26,
   "metadata": {},
   "outputs": [],
   "source": [
    "eth_prices = pd.DataFrame()\n",
    "\n",
    "eth_prices = eth_now_data[\"data\"][\"1027\"][\"quotes\"][\"USD\"][\"price\"]"
   ]
  },
  {
   "cell_type": "code",
   "execution_count": 27,
   "metadata": {},
   "outputs": [],
   "source": [
    "btc_prices = pd.DataFrame()\n",
    "\n",
    "btc_prices = btc_now_data[\"data\"][\"1\"][\"quotes\"][\"USD\"][\"price\"]"
   ]
  },
  {
   "cell_type": "code",
   "execution_count": 28,
   "metadata": {},
   "outputs": [
    {
     "name": "stdout",
     "output_type": "stream",
     "text": [
      "The current BTC Price is: 60688.0\n"
     ]
    }
   ],
   "source": [
    "print(f'The current BTC Price is: {btc_prices}')"
   ]
  },
  {
   "cell_type": "code",
   "execution_count": 29,
   "metadata": {},
   "outputs": [
    {
     "name": "stdout",
     "output_type": "stream",
     "text": [
      "The current ETH Price is: 3816.01\n"
     ]
    }
   ],
   "source": [
    "print(f'The current ETH Price is: {eth_prices}')"
   ]
  },
  {
   "cell_type": "code",
   "execution_count": 30,
   "metadata": {},
   "outputs": [
    {
     "name": "stdout",
     "output_type": "stream",
     "text": [
      "The current value of your 1.2 BTC is $72825.60\n",
      "The current value of your 5.3 ETH is $20224.85\n"
     ]
    }
   ],
   "source": [
    "# Compute current value of my crpto\n",
    "my_btc_value = btc_prices * my_btc\n",
    "my_eth_value = eth_prices * my_eth\n",
    "\n",
    "# Print current crypto wallet balance\n",
    "print(f\"The current value of your {my_btc} BTC is ${my_btc_value:0.2f}\")\n",
    "print(f\"The current value of your {my_eth} ETH is ${my_eth_value:0.2f}\")"
   ]
  },
  {
   "cell_type": "markdown",
   "metadata": {},
   "source": [
    "### Collect Investments Data Using Alpaca: `SPY` (stocks) and `AGG` (bonds)"
   ]
  },
  {
   "cell_type": "code",
   "execution_count": 31,
   "metadata": {},
   "outputs": [],
   "source": [
    "# Set current amount of shares\n",
    "\n",
    "# AGG: Bonds\n",
    "my_agg = 200\n",
    "\n",
    "#SPY: Stocks\n",
    "my_spy = 50"
   ]
  },
  {
   "cell_type": "code",
   "execution_count": 32,
   "metadata": {},
   "outputs": [
    {
     "name": "stdout",
     "output_type": "stream",
     "text": [
      "Alpaca Key type: <class 'str'>\n",
      "Alpaca Secret Key type: <class 'str'>\n"
     ]
    }
   ],
   "source": [
    "# Set Alpaca API key and secret\n",
    "alpaca_api_key = os.getenv(\"ALPACA_API_KEY\")\n",
    "alpaca_secret_key = os.getenv(\"ALPACA_SECRET_KEY\")\n",
    "\n",
    "# Verify that Alpaca key and secret were correctly loaded\n",
    "print(f\"Alpaca Key type: {type(alpaca_api_key)}\")\n",
    "print(f\"Alpaca Secret Key type: {type(alpaca_secret_key)}\")\n",
    "\n",
    "# Create the Alpaca API object\n",
    "alpaca = tradeapi.REST(\n",
    "    alpaca_api_key,\n",
    "    alpaca_secret_key,\n",
    "    api_version=\"v2\")"
   ]
  },
  {
   "cell_type": "code",
   "execution_count": 33,
   "metadata": {},
   "outputs": [
    {
     "data": {
      "text/html": [
       "<div>\n",
       "<style scoped>\n",
       "    .dataframe tbody tr th:only-of-type {\n",
       "        vertical-align: middle;\n",
       "    }\n",
       "\n",
       "    .dataframe tbody tr th {\n",
       "        vertical-align: top;\n",
       "    }\n",
       "\n",
       "    .dataframe thead tr th {\n",
       "        text-align: left;\n",
       "    }\n",
       "\n",
       "    .dataframe thead tr:last-of-type th {\n",
       "        text-align: right;\n",
       "    }\n",
       "</style>\n",
       "<table border=\"1\" class=\"dataframe\">\n",
       "  <thead>\n",
       "    <tr>\n",
       "      <th></th>\n",
       "      <th colspan=\"5\" halign=\"left\">AGG</th>\n",
       "      <th colspan=\"5\" halign=\"left\">SPY</th>\n",
       "    </tr>\n",
       "    <tr>\n",
       "      <th></th>\n",
       "      <th>open</th>\n",
       "      <th>high</th>\n",
       "      <th>low</th>\n",
       "      <th>close</th>\n",
       "      <th>volume</th>\n",
       "      <th>open</th>\n",
       "      <th>high</th>\n",
       "      <th>low</th>\n",
       "      <th>close</th>\n",
       "      <th>volume</th>\n",
       "    </tr>\n",
       "    <tr>\n",
       "      <th>time</th>\n",
       "      <th></th>\n",
       "      <th></th>\n",
       "      <th></th>\n",
       "      <th></th>\n",
       "      <th></th>\n",
       "      <th></th>\n",
       "      <th></th>\n",
       "      <th></th>\n",
       "      <th></th>\n",
       "      <th></th>\n",
       "    </tr>\n",
       "  </thead>\n",
       "  <tbody>\n",
       "    <tr>\n",
       "      <th>2021-10-13 00:00:00-04:00</th>\n",
       "      <td>114.43</td>\n",
       "      <td>114.64</td>\n",
       "      <td>114.415</td>\n",
       "      <td>114.61</td>\n",
       "      <td>5301180</td>\n",
       "      <td>434.71</td>\n",
       "      <td>436.05</td>\n",
       "      <td>431.54</td>\n",
       "      <td>435.13</td>\n",
       "      <td>63943229</td>\n",
       "    </tr>\n",
       "  </tbody>\n",
       "</table>\n",
       "</div>"
      ],
      "text/plain": [
       "                              AGG                                       SPY  \\\n",
       "                             open    high      low   close   volume    open   \n",
       "time                                                                          \n",
       "2021-10-13 00:00:00-04:00  114.43  114.64  114.415  114.61  5301180  434.71   \n",
       "\n",
       "                                                             \n",
       "                             high     low   close    volume  \n",
       "time                                                         \n",
       "2021-10-13 00:00:00-04:00  436.05  431.54  435.13  63943229  "
      ]
     },
     "execution_count": 33,
     "metadata": {},
     "output_type": "execute_result"
    }
   ],
   "source": [
    "# Set the Bonds & S&P tickers\n",
    "ticker = [\"AGG\",\"SPY\"]\n",
    "\n",
    "# Format current date as ISO format\n",
    "today = pd.Timestamp(\"2021-10-13\", tz=\"America/Chicago\").isoformat()\n",
    "\n",
    "# Set timeframe to '1D'\n",
    "timeframe = \"1D\"\n",
    "\n",
    "\n",
    "# Get 1 year's worth of historical data for Bonds & S&P tickers\n",
    "df_ticker = alpaca.get_barset(\n",
    "    ticker,\n",
    "    timeframe,\n",
    "    start=today,\n",
    "    end=today,\n",
    "    limit=1000,\n",
    ").df\n",
    "\n",
    "# Display sample data\n",
    "df_ticker.head()"
   ]
  },
  {
   "cell_type": "code",
   "execution_count": 34,
   "metadata": {},
   "outputs": [
    {
     "name": "stdout",
     "output_type": "stream",
     "text": [
      "Current AGG closing price: $114.61\n",
      "Current SPY closing price: $435.13\n"
     ]
    }
   ],
   "source": [
    "# Fetch the current closing prices from the DataFrame\n",
    "agg_close_price = float(df_ticker[\"AGG\"][\"close\"])\n",
    "spy_close_price = float(df_ticker[\"SPY\"][\"close\"])\n",
    "\n",
    "# Print AGG and SPY close prices\n",
    "print(f\"Current AGG closing price: ${agg_close_price}\")\n",
    "print(f\"Current SPY closing price: ${spy_close_price}\")"
   ]
  },
  {
   "cell_type": "code",
   "execution_count": 35,
   "metadata": {},
   "outputs": [
    {
     "name": "stdout",
     "output_type": "stream",
     "text": [
      "The current value of your 50 SPY shares is $21756.50\n",
      "The current value of your 200 AGG shares is $22922.00\n"
     ]
    }
   ],
   "source": [
    "# Compute the current value of shares in dollars\n",
    "my_agg_value = agg_close_price * my_agg\n",
    "my_spy_value = spy_close_price * my_spy\n",
    "\n",
    "# Print current value of shares\n",
    "print(f\"The current value of your {my_spy} SPY shares is ${my_spy_value:0.2f}\")\n",
    "print(f\"The current value of your {my_agg} AGG shares is ${my_agg_value:0.2f}\")\n",
    "# print(f\"The current value of the agg shares is ${agg_value:0.2f}\")\n",
    "# print(f\"The current value of the spy shares is ${spy_value:0.2f}\")"
   ]
  },
  {
   "cell_type": "markdown",
   "metadata": {},
   "source": [
    "### Savings Health Analysis"
   ]
  },
  {
   "cell_type": "code",
   "execution_count": 36,
   "metadata": {},
   "outputs": [
    {
     "data": {
      "text/html": [
       "<div>\n",
       "<style scoped>\n",
       "    .dataframe tbody tr th:only-of-type {\n",
       "        vertical-align: middle;\n",
       "    }\n",
       "\n",
       "    .dataframe tbody tr th {\n",
       "        vertical-align: top;\n",
       "    }\n",
       "\n",
       "    .dataframe thead th {\n",
       "        text-align: right;\n",
       "    }\n",
       "</style>\n",
       "<table border=\"1\" class=\"dataframe\">\n",
       "  <thead>\n",
       "    <tr style=\"text-align: right;\">\n",
       "      <th></th>\n",
       "      <th>amount</th>\n",
       "    </tr>\n",
       "  </thead>\n",
       "  <tbody>\n",
       "    <tr>\n",
       "      <th>crypto</th>\n",
       "      <td>93050.453</td>\n",
       "    </tr>\n",
       "    <tr>\n",
       "      <th>shares</th>\n",
       "      <td>44678.500</td>\n",
       "    </tr>\n",
       "  </tbody>\n",
       "</table>\n",
       "</div>"
      ],
      "text/plain": [
       "           amount\n",
       "crypto  93050.453\n",
       "shares  44678.500"
      ]
     },
     "metadata": {},
     "output_type": "display_data"
    }
   ],
   "source": [
    "# Set monthly household income\n",
    "monthly_income = 12000\n",
    "\n",
    "# Consolidate financial assets data\n",
    "all_money = {'crypto': (my_btc_value+my_eth_value), 'shares': (my_agg_value+my_spy_value)}\n",
    "money=pd.Series(all_money)\n",
    "\n",
    "# Create savings DataFrame\n",
    "df_savings=pd.DataFrame({'amount': money})\n",
    "\n",
    "# Display savings DataFrame\n",
    "display(df_savings)"
   ]
  },
  {
   "cell_type": "code",
   "execution_count": 37,
   "metadata": {},
   "outputs": [
    {
     "data": {
      "text/plain": [
       "<AxesSubplot:ylabel='None'>"
      ]
     },
     "execution_count": 37,
     "metadata": {},
     "output_type": "execute_result"
    },
    {
     "data": {
      "image/png": "[encoded data removed]",
      "text/plain": [
       "<Figure size 432x288 with 1 Axes>"
      ]
     },
     "metadata": {},
     "output_type": "display_data"
    }
   ],
   "source": [
    "# Plot savings pie chart\n",
    "# df_savings.plot(kind='pie')\n",
    "money.plot(kind='pie')"
   ]
  },
  {
   "cell_type": "code",
   "execution_count": 38,
   "metadata": {},
   "outputs": [
    {
     "name": "stdout",
     "output_type": "stream",
     "text": [
      "Congratulations! You have enough money in your emergency fund.\n"
     ]
    }
   ],
   "source": [
    "# Set ideal emergency fund\n",
    "emergency_fund = monthly_income * 3\n",
    "\n",
    "# Calculate total amount of savings\n",
    "total_savings = my_agg_value + my_spy_value + my_btc_value + my_eth_value\n",
    "\n",
    "# Validate saving health\n",
    "if total_savings > emergency_fund:\n",
    "    print(f'Congratulations! You have enough money in your emergency fund.')\n",
    "else:\n",
    "    print(\"save more\")"
   ]
  },
  {
   "cell_type": "markdown",
   "metadata": {},
   "source": [
    "## Part 2 - Retirement Planning\n",
    "\n",
    "### Monte Carlo Simulation"
   ]
  },
  {
   "cell_type": "code",
   "execution_count": 39,
   "metadata": {},
   "outputs": [],
   "source": [
    "# Set start and end dates of five years back from today.\n",
    "# Sample results may vary from the solution based on the time frame chosen\n",
    "start_date = pd.Timestamp('2016-10-14', tz='America/Chicago').isoformat()\n",
    "end_date = pd.Timestamp('2021-10-14', tz='America/Chicago').isoformat()"
   ]
  },
  {
   "cell_type": "code",
   "execution_count": 40,
   "metadata": {},
   "outputs": [
    {
     "data": {
      "text/html": [
       "<div>\n",
       "<style scoped>\n",
       "    .dataframe tbody tr th:only-of-type {\n",
       "        vertical-align: middle;\n",
       "    }\n",
       "\n",
       "    .dataframe tbody tr th {\n",
       "        vertical-align: top;\n",
       "    }\n",
       "\n",
       "    .dataframe thead tr th {\n",
       "        text-align: left;\n",
       "    }\n",
       "\n",
       "    .dataframe thead tr:last-of-type th {\n",
       "        text-align: right;\n",
       "    }\n",
       "</style>\n",
       "<table border=\"1\" class=\"dataframe\">\n",
       "  <thead>\n",
       "    <tr>\n",
       "      <th></th>\n",
       "      <th colspan=\"5\" halign=\"left\">AGG</th>\n",
       "      <th colspan=\"5\" halign=\"left\">SPY</th>\n",
       "    </tr>\n",
       "    <tr>\n",
       "      <th></th>\n",
       "      <th>open</th>\n",
       "      <th>high</th>\n",
       "      <th>low</th>\n",
       "      <th>close</th>\n",
       "      <th>volume</th>\n",
       "      <th>open</th>\n",
       "      <th>high</th>\n",
       "      <th>low</th>\n",
       "      <th>close</th>\n",
       "      <th>volume</th>\n",
       "    </tr>\n",
       "    <tr>\n",
       "      <th>time</th>\n",
       "      <th></th>\n",
       "      <th></th>\n",
       "      <th></th>\n",
       "      <th></th>\n",
       "      <th></th>\n",
       "      <th></th>\n",
       "      <th></th>\n",
       "      <th></th>\n",
       "      <th></th>\n",
       "      <th></th>\n",
       "    </tr>\n",
       "  </thead>\n",
       "  <tbody>\n",
       "    <tr>\n",
       "      <th>2017-10-25 00:00:00-04:00</th>\n",
       "      <td>108.96</td>\n",
       "      <td>109.130</td>\n",
       "      <td>108.950</td>\n",
       "      <td>109.11</td>\n",
       "      <td>2706969</td>\n",
       "      <td>256.19</td>\n",
       "      <td>256.31</td>\n",
       "      <td>254.000</td>\n",
       "      <td>255.30</td>\n",
       "      <td>72200254</td>\n",
       "    </tr>\n",
       "    <tr>\n",
       "      <th>2017-10-26 00:00:00-04:00</th>\n",
       "      <td>109.20</td>\n",
       "      <td>109.229</td>\n",
       "      <td>108.980</td>\n",
       "      <td>109.00</td>\n",
       "      <td>1488075</td>\n",
       "      <td>255.99</td>\n",
       "      <td>256.30</td>\n",
       "      <td>255.560</td>\n",
       "      <td>255.59</td>\n",
       "      <td>37718330</td>\n",
       "    </tr>\n",
       "    <tr>\n",
       "      <th>2017-10-27 00:00:00-04:00</th>\n",
       "      <td>109.07</td>\n",
       "      <td>109.260</td>\n",
       "      <td>109.035</td>\n",
       "      <td>109.24</td>\n",
       "      <td>1527412</td>\n",
       "      <td>256.50</td>\n",
       "      <td>257.89</td>\n",
       "      <td>256.160</td>\n",
       "      <td>257.68</td>\n",
       "      <td>49910859</td>\n",
       "    </tr>\n",
       "    <tr>\n",
       "      <th>2017-10-30 00:00:00-04:00</th>\n",
       "      <td>109.43</td>\n",
       "      <td>109.560</td>\n",
       "      <td>109.360</td>\n",
       "      <td>109.53</td>\n",
       "      <td>1719161</td>\n",
       "      <td>257.07</td>\n",
       "      <td>257.60</td>\n",
       "      <td>256.410</td>\n",
       "      <td>256.80</td>\n",
       "      <td>37073374</td>\n",
       "    </tr>\n",
       "    <tr>\n",
       "      <th>2017-10-31 00:00:00-04:00</th>\n",
       "      <td>109.52</td>\n",
       "      <td>109.550</td>\n",
       "      <td>109.440</td>\n",
       "      <td>109.45</td>\n",
       "      <td>2427946</td>\n",
       "      <td>257.18</td>\n",
       "      <td>257.44</td>\n",
       "      <td>256.805</td>\n",
       "      <td>257.11</td>\n",
       "      <td>35711419</td>\n",
       "    </tr>\n",
       "  </tbody>\n",
       "</table>\n",
       "</div>"
      ],
      "text/plain": [
       "                              AGG                                        SPY  \\\n",
       "                             open     high      low   close   volume    open   \n",
       "time                                                                           \n",
       "2017-10-25 00:00:00-04:00  108.96  109.130  108.950  109.11  2706969  256.19   \n",
       "2017-10-26 00:00:00-04:00  109.20  109.229  108.980  109.00  1488075  255.99   \n",
       "2017-10-27 00:00:00-04:00  109.07  109.260  109.035  109.24  1527412  256.50   \n",
       "2017-10-30 00:00:00-04:00  109.43  109.560  109.360  109.53  1719161  257.07   \n",
       "2017-10-31 00:00:00-04:00  109.52  109.550  109.440  109.45  2427946  257.18   \n",
       "\n",
       "                                                              \n",
       "                             high      low   close    volume  \n",
       "time                                                          \n",
       "2017-10-25 00:00:00-04:00  256.31  254.000  255.30  72200254  \n",
       "2017-10-26 00:00:00-04:00  256.30  255.560  255.59  37718330  \n",
       "2017-10-27 00:00:00-04:00  257.89  256.160  257.68  49910859  \n",
       "2017-10-30 00:00:00-04:00  257.60  256.410  256.80  37073374  \n",
       "2017-10-31 00:00:00-04:00  257.44  256.805  257.11  35711419  "
      ]
     },
     "execution_count": 40,
     "metadata": {},
     "output_type": "execute_result"
    }
   ],
   "source": [
    "# Get 5 years' worth of historical data for SPY and AGG\n",
    "# (use a limit=1000 parameter to call the most recent 1000 days of data)\n",
    "ticker = [\"AGG\",\"SPY\"]\n",
    "\n",
    "# Set timeframe to '1D'\n",
    "timeframe = \"1D\"\n",
    "\n",
    "# Get 1 year's worth of historical data for Bonds and Stocks\n",
    "df_stock_data = alpaca.get_barset(\n",
    "    ticker,\n",
    "    timeframe,\n",
    "    start=start_date,\n",
    "    end=end_date,\n",
    "    limit=1000,\n",
    ").df\n",
    "\n",
    "# Display sample data\n",
    "df_stock_data.head()"
   ]
  },
  {
   "cell_type": "code",
   "execution_count": 41,
   "metadata": {},
   "outputs": [],
   "source": [
    "# Configure a Monte Carlo simulation (n=500) to forecast 30 years cumulative returns\n",
    "MC_retire_dist = MCSimulation(\n",
    "    portfolio_data = df_stock_data,\n",
    "    weights = [.50,.50],\n",
    "    num_simulation = 500,\n",
    "    num_trading_days = 252*30\n",
    ")"
   ]
  },
  {
   "cell_type": "code",
   "execution_count": 42,
   "metadata": {},
   "outputs": [
    {
     "data": {
      "text/html": [
       "<div>\n",
       "<style scoped>\n",
       "    .dataframe tbody tr th:only-of-type {\n",
       "        vertical-align: middle;\n",
       "    }\n",
       "\n",
       "    .dataframe tbody tr th {\n",
       "        vertical-align: top;\n",
       "    }\n",
       "\n",
       "    .dataframe thead tr th {\n",
       "        text-align: left;\n",
       "    }\n",
       "\n",
       "    .dataframe thead tr:last-of-type th {\n",
       "        text-align: right;\n",
       "    }\n",
       "</style>\n",
       "<table border=\"1\" class=\"dataframe\">\n",
       "  <thead>\n",
       "    <tr>\n",
       "      <th></th>\n",
       "      <th colspan=\"6\" halign=\"left\">AGG</th>\n",
       "      <th colspan=\"6\" halign=\"left\">SPY</th>\n",
       "    </tr>\n",
       "    <tr>\n",
       "      <th></th>\n",
       "      <th>open</th>\n",
       "      <th>high</th>\n",
       "      <th>low</th>\n",
       "      <th>close</th>\n",
       "      <th>volume</th>\n",
       "      <th>daily_return</th>\n",
       "      <th>open</th>\n",
       "      <th>high</th>\n",
       "      <th>low</th>\n",
       "      <th>close</th>\n",
       "      <th>volume</th>\n",
       "      <th>daily_return</th>\n",
       "    </tr>\n",
       "    <tr>\n",
       "      <th>time</th>\n",
       "      <th></th>\n",
       "      <th></th>\n",
       "      <th></th>\n",
       "      <th></th>\n",
       "      <th></th>\n",
       "      <th></th>\n",
       "      <th></th>\n",
       "      <th></th>\n",
       "      <th></th>\n",
       "      <th></th>\n",
       "      <th></th>\n",
       "      <th></th>\n",
       "    </tr>\n",
       "  </thead>\n",
       "  <tbody>\n",
       "    <tr>\n",
       "      <th>2017-10-25 00:00:00-04:00</th>\n",
       "      <td>108.96</td>\n",
       "      <td>109.130</td>\n",
       "      <td>108.950</td>\n",
       "      <td>109.11</td>\n",
       "      <td>2706969</td>\n",
       "      <td>NaN</td>\n",
       "      <td>256.19</td>\n",
       "      <td>256.31</td>\n",
       "      <td>254.000</td>\n",
       "      <td>255.30</td>\n",
       "      <td>72200254</td>\n",
       "      <td>NaN</td>\n",
       "    </tr>\n",
       "    <tr>\n",
       "      <th>2017-10-26 00:00:00-04:00</th>\n",
       "      <td>109.20</td>\n",
       "      <td>109.229</td>\n",
       "      <td>108.980</td>\n",
       "      <td>109.00</td>\n",
       "      <td>1488075</td>\n",
       "      <td>-0.001008</td>\n",
       "      <td>255.99</td>\n",
       "      <td>256.30</td>\n",
       "      <td>255.560</td>\n",
       "      <td>255.59</td>\n",
       "      <td>37718330</td>\n",
       "      <td>0.001136</td>\n",
       "    </tr>\n",
       "    <tr>\n",
       "      <th>2017-10-27 00:00:00-04:00</th>\n",
       "      <td>109.07</td>\n",
       "      <td>109.260</td>\n",
       "      <td>109.035</td>\n",
       "      <td>109.24</td>\n",
       "      <td>1527412</td>\n",
       "      <td>0.002202</td>\n",
       "      <td>256.50</td>\n",
       "      <td>257.89</td>\n",
       "      <td>256.160</td>\n",
       "      <td>257.68</td>\n",
       "      <td>49910859</td>\n",
       "      <td>0.008177</td>\n",
       "    </tr>\n",
       "    <tr>\n",
       "      <th>2017-10-30 00:00:00-04:00</th>\n",
       "      <td>109.43</td>\n",
       "      <td>109.560</td>\n",
       "      <td>109.360</td>\n",
       "      <td>109.53</td>\n",
       "      <td>1719161</td>\n",
       "      <td>0.002655</td>\n",
       "      <td>257.07</td>\n",
       "      <td>257.60</td>\n",
       "      <td>256.410</td>\n",
       "      <td>256.80</td>\n",
       "      <td>37073374</td>\n",
       "      <td>-0.003415</td>\n",
       "    </tr>\n",
       "    <tr>\n",
       "      <th>2017-10-31 00:00:00-04:00</th>\n",
       "      <td>109.52</td>\n",
       "      <td>109.550</td>\n",
       "      <td>109.440</td>\n",
       "      <td>109.45</td>\n",
       "      <td>2427946</td>\n",
       "      <td>-0.000730</td>\n",
       "      <td>257.18</td>\n",
       "      <td>257.44</td>\n",
       "      <td>256.805</td>\n",
       "      <td>257.11</td>\n",
       "      <td>35711419</td>\n",
       "      <td>0.001207</td>\n",
       "    </tr>\n",
       "  </tbody>\n",
       "</table>\n",
       "</div>"
      ],
      "text/plain": [
       "                              AGG                                     \\\n",
       "                             open     high      low   close   volume   \n",
       "time                                                                   \n",
       "2017-10-25 00:00:00-04:00  108.96  109.130  108.950  109.11  2706969   \n",
       "2017-10-26 00:00:00-04:00  109.20  109.229  108.980  109.00  1488075   \n",
       "2017-10-27 00:00:00-04:00  109.07  109.260  109.035  109.24  1527412   \n",
       "2017-10-30 00:00:00-04:00  109.43  109.560  109.360  109.53  1719161   \n",
       "2017-10-31 00:00:00-04:00  109.52  109.550  109.440  109.45  2427946   \n",
       "\n",
       "                                           SPY                           \\\n",
       "                          daily_return    open    high      low   close   \n",
       "time                                                                      \n",
       "2017-10-25 00:00:00-04:00          NaN  256.19  256.31  254.000  255.30   \n",
       "2017-10-26 00:00:00-04:00    -0.001008  255.99  256.30  255.560  255.59   \n",
       "2017-10-27 00:00:00-04:00     0.002202  256.50  257.89  256.160  257.68   \n",
       "2017-10-30 00:00:00-04:00     0.002655  257.07  257.60  256.410  256.80   \n",
       "2017-10-31 00:00:00-04:00    -0.000730  257.18  257.44  256.805  257.11   \n",
       "\n",
       "                                                  \n",
       "                             volume daily_return  \n",
       "time                                              \n",
       "2017-10-25 00:00:00-04:00  72200254          NaN  \n",
       "2017-10-26 00:00:00-04:00  37718330     0.001136  \n",
       "2017-10-27 00:00:00-04:00  49910859     0.008177  \n",
       "2017-10-30 00:00:00-04:00  37073374    -0.003415  \n",
       "2017-10-31 00:00:00-04:00  35711419     0.001207  "
      ]
     },
     "execution_count": 42,
     "metadata": {},
     "output_type": "execute_result"
    }
   ],
   "source": [
    "# Print the simulation input data\n",
    "MC_retire_dist.portfolio_data.head()"
   ]
  },
  {
   "cell_type": "code",
   "execution_count": 43,
   "metadata": {},
   "outputs": [
    {
     "name": "stdout",
     "output_type": "stream",
     "text": [
      "Running Monte Carlo simulation number 0.\n",
      "Running Monte Carlo simulation number 10.\n",
      "Running Monte Carlo simulation number 20.\n",
      "Running Monte Carlo simulation number 30.\n",
      "Running Monte Carlo simulation number 40.\n",
      "Running Monte Carlo simulation number 50.\n",
      "Running Monte Carlo simulation number 60.\n",
      "Running Monte Carlo simulation number 70.\n",
      "Running Monte Carlo simulation number 80.\n",
      "Running Monte Carlo simulation number 90.\n",
      "Running Monte Carlo simulation number 100.\n",
      "Running Monte Carlo simulation number 110.\n",
      "Running Monte Carlo simulation number 120.\n",
      "Running Monte Carlo simulation number 130.\n",
      "Running Monte Carlo simulation number 140.\n",
      "Running Monte Carlo simulation number 150.\n",
      "Running Monte Carlo simulation number 160.\n",
      "Running Monte Carlo simulation number 170.\n",
      "Running Monte Carlo simulation number 180.\n",
      "Running Monte Carlo simulation number 190.\n",
      "Running Monte Carlo simulation number 200.\n",
      "Running Monte Carlo simulation number 210.\n",
      "Running Monte Carlo simulation number 220.\n",
      "Running Monte Carlo simulation number 230.\n",
      "Running Monte Carlo simulation number 240.\n",
      "Running Monte Carlo simulation number 250.\n",
      "Running Monte Carlo simulation number 260.\n",
      "Running Monte Carlo simulation number 270.\n",
      "Running Monte Carlo simulation number 280.\n",
      "Running Monte Carlo simulation number 290.\n",
      "Running Monte Carlo simulation number 300.\n",
      "Running Monte Carlo simulation number 310.\n",
      "Running Monte Carlo simulation number 320.\n",
      "Running Monte Carlo simulation number 330.\n",
      "Running Monte Carlo simulation number 340.\n",
      "Running Monte Carlo simulation number 350.\n",
      "Running Monte Carlo simulation number 360.\n",
      "Running Monte Carlo simulation number 370.\n",
      "Running Monte Carlo simulation number 380.\n",
      "Running Monte Carlo simulation number 390.\n",
      "Running Monte Carlo simulation number 400.\n",
      "Running Monte Carlo simulation number 410.\n",
      "Running Monte Carlo simulation number 420.\n",
      "Running Monte Carlo simulation number 430.\n",
      "Running Monte Carlo simulation number 440.\n",
      "Running Monte Carlo simulation number 450.\n",
      "Running Monte Carlo simulation number 460.\n",
      "Running Monte Carlo simulation number 470.\n",
      "Running Monte Carlo simulation number 480.\n",
      "Running Monte Carlo simulation number 490.\n"
     ]
    },
    {
     "data": {
      "text/html": [
       "<div>\n",
       "<style scoped>\n",
       "    .dataframe tbody tr th:only-of-type {\n",
       "        vertical-align: middle;\n",
       "    }\n",
       "\n",
       "    .dataframe tbody tr th {\n",
       "        vertical-align: top;\n",
       "    }\n",
       "\n",
       "    .dataframe thead th {\n",
       "        text-align: right;\n",
       "    }\n",
       "</style>\n",
       "<table border=\"1\" class=\"dataframe\">\n",
       "  <thead>\n",
       "    <tr style=\"text-align: right;\">\n",
       "      <th></th>\n",
       "      <th>0</th>\n",
       "      <th>1</th>\n",
       "      <th>2</th>\n",
       "      <th>3</th>\n",
       "      <th>4</th>\n",
       "      <th>5</th>\n",
       "      <th>6</th>\n",
       "      <th>7</th>\n",
       "      <th>8</th>\n",
       "      <th>9</th>\n",
       "      <th>...</th>\n",
       "      <th>490</th>\n",
       "      <th>491</th>\n",
       "      <th>492</th>\n",
       "      <th>493</th>\n",
       "      <th>494</th>\n",
       "      <th>495</th>\n",
       "      <th>496</th>\n",
       "      <th>497</th>\n",
       "      <th>498</th>\n",
       "      <th>499</th>\n",
       "    </tr>\n",
       "  </thead>\n",
       "  <tbody>\n",
       "    <tr>\n",
       "      <th>0</th>\n",
       "      <td>1.000000</td>\n",
       "      <td>1.000000</td>\n",
       "      <td>1.000000</td>\n",
       "      <td>1.000000</td>\n",
       "      <td>1.000000</td>\n",
       "      <td>1.000000</td>\n",
       "      <td>1.000000</td>\n",
       "      <td>1.000000</td>\n",
       "      <td>1.000000</td>\n",
       "      <td>1.000000</td>\n",
       "      <td>...</td>\n",
       "      <td>1.000000</td>\n",
       "      <td>1.000000</td>\n",
       "      <td>1.000000</td>\n",
       "      <td>1.000000</td>\n",
       "      <td>1.000000</td>\n",
       "      <td>1.000000</td>\n",
       "      <td>1.000000</td>\n",
       "      <td>1.000000</td>\n",
       "      <td>1.000000</td>\n",
       "      <td>1.000000</td>\n",
       "    </tr>\n",
       "    <tr>\n",
       "      <th>1</th>\n",
       "      <td>0.999325</td>\n",
       "      <td>0.994315</td>\n",
       "      <td>0.996938</td>\n",
       "      <td>1.001657</td>\n",
       "      <td>0.994120</td>\n",
       "      <td>0.995559</td>\n",
       "      <td>1.005054</td>\n",
       "      <td>0.998324</td>\n",
       "      <td>0.987992</td>\n",
       "      <td>0.996483</td>\n",
       "      <td>...</td>\n",
       "      <td>0.994021</td>\n",
       "      <td>0.989234</td>\n",
       "      <td>0.998303</td>\n",
       "      <td>1.009566</td>\n",
       "      <td>0.993586</td>\n",
       "      <td>1.006276</td>\n",
       "      <td>1.006214</td>\n",
       "      <td>0.996254</td>\n",
       "      <td>1.002960</td>\n",
       "      <td>0.993432</td>\n",
       "    </tr>\n",
       "    <tr>\n",
       "      <th>2</th>\n",
       "      <td>0.999284</td>\n",
       "      <td>0.997607</td>\n",
       "      <td>1.005203</td>\n",
       "      <td>1.004246</td>\n",
       "      <td>0.996287</td>\n",
       "      <td>0.991902</td>\n",
       "      <td>1.001105</td>\n",
       "      <td>1.006097</td>\n",
       "      <td>0.985354</td>\n",
       "      <td>1.007977</td>\n",
       "      <td>...</td>\n",
       "      <td>0.986663</td>\n",
       "      <td>0.986226</td>\n",
       "      <td>0.989209</td>\n",
       "      <td>1.013175</td>\n",
       "      <td>0.989126</td>\n",
       "      <td>0.994584</td>\n",
       "      <td>1.010086</td>\n",
       "      <td>0.989072</td>\n",
       "      <td>1.003158</td>\n",
       "      <td>0.993845</td>\n",
       "    </tr>\n",
       "    <tr>\n",
       "      <th>3</th>\n",
       "      <td>0.998127</td>\n",
       "      <td>0.995080</td>\n",
       "      <td>0.996869</td>\n",
       "      <td>1.010853</td>\n",
       "      <td>0.992938</td>\n",
       "      <td>0.997899</td>\n",
       "      <td>0.999619</td>\n",
       "      <td>1.013882</td>\n",
       "      <td>0.993574</td>\n",
       "      <td>1.010728</td>\n",
       "      <td>...</td>\n",
       "      <td>0.985910</td>\n",
       "      <td>0.993267</td>\n",
       "      <td>0.990639</td>\n",
       "      <td>1.013797</td>\n",
       "      <td>0.982053</td>\n",
       "      <td>0.994537</td>\n",
       "      <td>1.016464</td>\n",
       "      <td>0.980297</td>\n",
       "      <td>1.001811</td>\n",
       "      <td>1.003604</td>\n",
       "    </tr>\n",
       "    <tr>\n",
       "      <th>4</th>\n",
       "      <td>0.992381</td>\n",
       "      <td>0.991707</td>\n",
       "      <td>0.996211</td>\n",
       "      <td>1.005623</td>\n",
       "      <td>0.984124</td>\n",
       "      <td>0.999798</td>\n",
       "      <td>0.990179</td>\n",
       "      <td>1.026523</td>\n",
       "      <td>0.994142</td>\n",
       "      <td>1.016906</td>\n",
       "      <td>...</td>\n",
       "      <td>0.991052</td>\n",
       "      <td>0.996140</td>\n",
       "      <td>0.984899</td>\n",
       "      <td>1.012380</td>\n",
       "      <td>0.988509</td>\n",
       "      <td>0.990059</td>\n",
       "      <td>1.017337</td>\n",
       "      <td>0.980756</td>\n",
       "      <td>0.993917</td>\n",
       "      <td>1.001806</td>\n",
       "    </tr>\n",
       "    <tr>\n",
       "      <th>...</th>\n",
       "      <td>...</td>\n",
       "      <td>...</td>\n",
       "      <td>...</td>\n",
       "      <td>...</td>\n",
       "      <td>...</td>\n",
       "      <td>...</td>\n",
       "      <td>...</td>\n",
       "      <td>...</td>\n",
       "      <td>...</td>\n",
       "      <td>...</td>\n",
       "      <td>...</td>\n",
       "      <td>...</td>\n",
       "      <td>...</td>\n",
       "      <td>...</td>\n",
       "      <td>...</td>\n",
       "      <td>...</td>\n",
       "      <td>...</td>\n",
       "      <td>...</td>\n",
       "      <td>...</td>\n",
       "      <td>...</td>\n",
       "      <td>...</td>\n",
       "    </tr>\n",
       "    <tr>\n",
       "      <th>7556</th>\n",
       "      <td>19.222209</td>\n",
       "      <td>11.031344</td>\n",
       "      <td>9.031850</td>\n",
       "      <td>6.520389</td>\n",
       "      <td>29.333518</td>\n",
       "      <td>42.707675</td>\n",
       "      <td>16.371242</td>\n",
       "      <td>8.022008</td>\n",
       "      <td>7.740335</td>\n",
       "      <td>18.045854</td>\n",
       "      <td>...</td>\n",
       "      <td>5.815907</td>\n",
       "      <td>7.094201</td>\n",
       "      <td>5.105307</td>\n",
       "      <td>11.649400</td>\n",
       "      <td>18.075659</td>\n",
       "      <td>7.843696</td>\n",
       "      <td>10.150026</td>\n",
       "      <td>7.806079</td>\n",
       "      <td>9.408643</td>\n",
       "      <td>8.376252</td>\n",
       "    </tr>\n",
       "    <tr>\n",
       "      <th>7557</th>\n",
       "      <td>19.081418</td>\n",
       "      <td>10.996496</td>\n",
       "      <td>9.039284</td>\n",
       "      <td>6.476108</td>\n",
       "      <td>29.116184</td>\n",
       "      <td>42.707359</td>\n",
       "      <td>16.396925</td>\n",
       "      <td>8.029855</td>\n",
       "      <td>7.617453</td>\n",
       "      <td>18.042264</td>\n",
       "      <td>...</td>\n",
       "      <td>5.849798</td>\n",
       "      <td>7.084407</td>\n",
       "      <td>5.115955</td>\n",
       "      <td>11.618370</td>\n",
       "      <td>18.028100</td>\n",
       "      <td>7.841675</td>\n",
       "      <td>10.195211</td>\n",
       "      <td>7.858833</td>\n",
       "      <td>9.296478</td>\n",
       "      <td>8.244267</td>\n",
       "    </tr>\n",
       "    <tr>\n",
       "      <th>7558</th>\n",
       "      <td>18.985497</td>\n",
       "      <td>11.071930</td>\n",
       "      <td>9.069447</td>\n",
       "      <td>6.497552</td>\n",
       "      <td>29.183254</td>\n",
       "      <td>42.827146</td>\n",
       "      <td>16.111577</td>\n",
       "      <td>8.029560</td>\n",
       "      <td>7.627372</td>\n",
       "      <td>17.984878</td>\n",
       "      <td>...</td>\n",
       "      <td>5.845676</td>\n",
       "      <td>7.088504</td>\n",
       "      <td>5.067468</td>\n",
       "      <td>11.659525</td>\n",
       "      <td>18.123667</td>\n",
       "      <td>7.780473</td>\n",
       "      <td>10.216881</td>\n",
       "      <td>7.754412</td>\n",
       "      <td>9.366492</td>\n",
       "      <td>8.175159</td>\n",
       "    </tr>\n",
       "    <tr>\n",
       "      <th>7559</th>\n",
       "      <td>18.994225</td>\n",
       "      <td>11.107978</td>\n",
       "      <td>9.025449</td>\n",
       "      <td>6.550475</td>\n",
       "      <td>28.969715</td>\n",
       "      <td>42.974322</td>\n",
       "      <td>16.221814</td>\n",
       "      <td>8.117780</td>\n",
       "      <td>7.536973</td>\n",
       "      <td>18.070116</td>\n",
       "      <td>...</td>\n",
       "      <td>5.879224</td>\n",
       "      <td>7.056455</td>\n",
       "      <td>5.093313</td>\n",
       "      <td>11.596484</td>\n",
       "      <td>18.087571</td>\n",
       "      <td>7.820178</td>\n",
       "      <td>10.205832</td>\n",
       "      <td>7.631287</td>\n",
       "      <td>9.433438</td>\n",
       "      <td>8.104623</td>\n",
       "    </tr>\n",
       "    <tr>\n",
       "      <th>7560</th>\n",
       "      <td>19.128452</td>\n",
       "      <td>11.105486</td>\n",
       "      <td>9.118373</td>\n",
       "      <td>6.487759</td>\n",
       "      <td>29.106441</td>\n",
       "      <td>43.042218</td>\n",
       "      <td>16.096263</td>\n",
       "      <td>8.155690</td>\n",
       "      <td>7.591653</td>\n",
       "      <td>18.140539</td>\n",
       "      <td>...</td>\n",
       "      <td>5.868146</td>\n",
       "      <td>6.992083</td>\n",
       "      <td>5.076680</td>\n",
       "      <td>11.511981</td>\n",
       "      <td>18.159609</td>\n",
       "      <td>7.745364</td>\n",
       "      <td>10.226192</td>\n",
       "      <td>7.670786</td>\n",
       "      <td>9.438303</td>\n",
       "      <td>8.050014</td>\n",
       "    </tr>\n",
       "  </tbody>\n",
       "</table>\n",
       "<p>7561 rows × 500 columns</p>\n",
       "</div>"
      ],
      "text/plain": [
       "            0          1         2         3          4          5    \\\n",
       "0      1.000000   1.000000  1.000000  1.000000   1.000000   1.000000   \n",
       "1      0.999325   0.994315  0.996938  1.001657   0.994120   0.995559   \n",
       "2      0.999284   0.997607  1.005203  1.004246   0.996287   0.991902   \n",
       "3      0.998127   0.995080  0.996869  1.010853   0.992938   0.997899   \n",
       "4      0.992381   0.991707  0.996211  1.005623   0.984124   0.999798   \n",
       "...         ...        ...       ...       ...        ...        ...   \n",
       "7556  19.222209  11.031344  9.031850  6.520389  29.333518  42.707675   \n",
       "7557  19.081418  10.996496  9.039284  6.476108  29.116184  42.707359   \n",
       "7558  18.985497  11.071930  9.069447  6.497552  29.183254  42.827146   \n",
       "7559  18.994225  11.107978  9.025449  6.550475  28.969715  42.974322   \n",
       "7560  19.128452  11.105486  9.118373  6.487759  29.106441  43.042218   \n",
       "\n",
       "            6         7         8          9    ...       490       491  \\\n",
       "0      1.000000  1.000000  1.000000   1.000000  ...  1.000000  1.000000   \n",
       "1      1.005054  0.998324  0.987992   0.996483  ...  0.994021  0.989234   \n",
       "2      1.001105  1.006097  0.985354   1.007977  ...  0.986663  0.986226   \n",
       "3      0.999619  1.013882  0.993574   1.010728  ...  0.985910  0.993267   \n",
       "4      0.990179  1.026523  0.994142   1.016906  ...  0.991052  0.996140   \n",
       "...         ...       ...       ...        ...  ...       ...       ...   \n",
       "7556  16.371242  8.022008  7.740335  18.045854  ...  5.815907  7.094201   \n",
       "7557  16.396925  8.029855  7.617453  18.042264  ...  5.849798  7.084407   \n",
       "7558  16.111577  8.029560  7.627372  17.984878  ...  5.845676  7.088504   \n",
       "7559  16.221814  8.117780  7.536973  18.070116  ...  5.879224  7.056455   \n",
       "7560  16.096263  8.155690  7.591653  18.140539  ...  5.868146  6.992083   \n",
       "\n",
       "           492        493        494       495        496       497       498  \\\n",
       "0     1.000000   1.000000   1.000000  1.000000   1.000000  1.000000  1.000000   \n",
       "1     0.998303   1.009566   0.993586  1.006276   1.006214  0.996254  1.002960   \n",
       "2     0.989209   1.013175   0.989126  0.994584   1.010086  0.989072  1.003158   \n",
       "3     0.990639   1.013797   0.982053  0.994537   1.016464  0.980297  1.001811   \n",
       "4     0.984899   1.012380   0.988509  0.990059   1.017337  0.980756  0.993917   \n",
       "...        ...        ...        ...       ...        ...       ...       ...   \n",
       "7556  5.105307  11.649400  18.075659  7.843696  10.150026  7.806079  9.408643   \n",
       "7557  5.115955  11.618370  18.028100  7.841675  10.195211  7.858833  9.296478   \n",
       "7558  5.067468  11.659525  18.123667  7.780473  10.216881  7.754412  9.366492   \n",
       "7559  5.093313  11.596484  18.087571  7.820178  10.205832  7.631287  9.433438   \n",
       "7560  5.076680  11.511981  18.159609  7.745364  10.226192  7.670786  9.438303   \n",
       "\n",
       "           499  \n",
       "0     1.000000  \n",
       "1     0.993432  \n",
       "2     0.993845  \n",
       "3     1.003604  \n",
       "4     1.001806  \n",
       "...        ...  \n",
       "7556  8.376252  \n",
       "7557  8.244267  \n",
       "7558  8.175159  \n",
       "7559  8.104623  \n",
       "7560  8.050014  \n",
       "\n",
       "[7561 rows x 500 columns]"
      ]
     },
     "execution_count": 43,
     "metadata": {},
     "output_type": "execute_result"
    }
   ],
   "source": [
    "# Running a Monte Carlo simulation to forecast 30 years cumulative returns\n",
    "MC_retire_dist.calc_cumulative_return()"
   ]
  },
  {
   "cell_type": "code",
   "execution_count": 44,
   "metadata": {},
   "outputs": [
    {
     "data": {
      "image/png": "[encoded data removed]",
      "text/plain": [
       "<Figure size 432x288 with 1 Axes>"
      ]
     },
     "metadata": {
      "needs_background": "light"
     },
     "output_type": "display_data"
    }
   ],
   "source": [
    "# Plot simulation outcomes\n",
    "line_plot = MC_retire_dist.plot_simulation()"
   ]
  },
  {
   "cell_type": "code",
   "execution_count": 45,
   "metadata": {},
   "outputs": [
    {
     "data": {
      "image/png": "[encoded data removed]",
      "text/plain": [
       "<Figure size 432x288 with 1 Axes>"
      ]
     },
     "metadata": {
      "needs_background": "light"
     },
     "output_type": "display_data"
    }
   ],
   "source": [
    "# Plot probability distribution and confidence intervals\n",
    "dist_plot = MC_retire_dist.plot_distribution()"
   ]
  },
  {
   "cell_type": "markdown",
   "metadata": {},
   "source": [
    "### Retirement Analysis"
   ]
  },
  {
   "cell_type": "code",
   "execution_count": 46,
   "metadata": {},
   "outputs": [
    {
     "name": "stdout",
     "output_type": "stream",
     "text": [
      "count           500.000000\n",
      "mean             13.691972\n",
      "std               8.527468\n",
      "min               2.309612\n",
      "25%               8.116060\n",
      "50%              11.408496\n",
      "75%              17.218409\n",
      "max              64.731254\n",
      "95% CI Lower      3.824532\n",
      "95% CI Upper     36.596088\n",
      "Name: 7560, dtype: float64\n"
     ]
    }
   ],
   "source": [
    "# Fetch summary statistics from the Monte Carlo simulation results\n",
    "retire_tbl = MC_retire_dist.summarize_cumulative_return()\n",
    "\n",
    "# Print summary statistics\n",
    "print(retire_tbl)"
   ]
  },
  {
   "cell_type": "markdown",
   "metadata": {},
   "source": [
    "### Calculate the expected portfolio return at the `95%` lower and upper confidence intervals based on a `$20,000` initial investment."
   ]
  },
  {
   "cell_type": "code",
   "execution_count": 47,
   "metadata": {},
   "outputs": [
    {
     "name": "stdout",
     "output_type": "stream",
     "text": [
      "There is a 95% chance that an initial investment of $20000 in the portfolio over the next 30 years will end within in the range of $76490.64 and $731921.75\n"
     ]
    }
   ],
   "source": [
    "# Set initial investment\n",
    "initial_investment = 20000\n",
    "\n",
    "# Use the lower and upper `95%` confidence intervals to calculate the range of the possible outcomes of our $15,000 investments in stocks\n",
    "#Lower as defined above, is the 8th index, 15000 as stated in instructions, 2 digits rounded to\n",
    "ci_lower = round(retire_tbl[8]*initial_investment,2)\n",
    "#Upper as defined above, is the 9th index, 15000 as stated in instructions, 2 digits rounded to\n",
    "ci_upper = round(retire_tbl[9]*initial_investment,2)\n",
    "\n",
    "\n",
    "# Print results\n",
    "print(f\"There is a 95% chance that an initial investment of ${initial_investment} in the portfolio\"\n",
    "      f\" over the next 30 years will end within in the range of\"\n",
    "      f\" ${ci_lower} and ${ci_upper}\")"
   ]
  },
  {
   "cell_type": "markdown",
   "metadata": {},
   "source": [
    "### Calculate the expected portfolio return at the `95%` lower and upper confidence intervals based on a `50%` increase in the initial investment."
   ]
  },
  {
   "cell_type": "code",
   "execution_count": 48,
   "metadata": {},
   "outputs": [
    {
     "name": "stdout",
     "output_type": "stream",
     "text": [
      "There is a 95% chance that an increased investment of $30000.0 in the portfolio over the next 30 years will end within in the range of $114735.95 and $1097882.63\n"
     ]
    }
   ],
   "source": [
    "# Set updated investment (after 50% increase)\n",
    "updated_investment = 20000 * 1.5\n",
    "\n",
    "# Use the lower and upper `95%` confidence intervals to calculate the range of the possible outcomes of our $15,000 investments in stocks\n",
    "#Lower as defined above, is the 8th index, 15000 as stated in instructions, 2 digits rounded to\n",
    "more_ci_lower = round(retire_tbl[8]*updated_investment,2)\n",
    "#Upper as defined above, is the 9th index, 15000 as stated in instructions, 2 digits rounded to\n",
    "more_ci_upper = round(retire_tbl[9]*updated_investment,2)\n",
    "\n",
    "# Print results\n",
    "print(f\"There is a 95% chance that an increased investment of ${updated_investment} in the portfolio\"\n",
    "      f\" over the next 30 years will end within in the range of\"\n",
    "      f\" ${more_ci_lower} and ${more_ci_upper}\")"
   ]
  },
  {
   "cell_type": "markdown",
   "metadata": {},
   "source": [
    "## Optional Challenge - Early Retirement\n",
    "\n",
    "\n",
    "### Five Years Retirement Option"
   ]
  },
  {
   "cell_type": "code",
   "execution_count": 49,
   "metadata": {},
   "outputs": [
    {
     "name": "stdout",
     "output_type": "stream",
     "text": [
      "                              AGG                                     \\\n",
      "                             open     high      low   close   volume   \n",
      "time                                                                   \n",
      "2017-10-25 00:00:00-04:00  108.96  109.130  108.950  109.11  2706969   \n",
      "2017-10-26 00:00:00-04:00  109.20  109.229  108.980  109.00  1488075   \n",
      "2017-10-27 00:00:00-04:00  109.07  109.260  109.035  109.24  1527412   \n",
      "2017-10-30 00:00:00-04:00  109.43  109.560  109.360  109.53  1719161   \n",
      "2017-10-31 00:00:00-04:00  109.52  109.550  109.440  109.45  2427946   \n",
      "\n",
      "                                           SPY                           \\\n",
      "                          daily_return    open    high      low   close   \n",
      "time                                                                      \n",
      "2017-10-25 00:00:00-04:00          NaN  256.19  256.31  254.000  255.30   \n",
      "2017-10-26 00:00:00-04:00    -0.001008  255.99  256.30  255.560  255.59   \n",
      "2017-10-27 00:00:00-04:00     0.002202  256.50  257.89  256.160  257.68   \n",
      "2017-10-30 00:00:00-04:00     0.002655  257.07  257.60  256.410  256.80   \n",
      "2017-10-31 00:00:00-04:00    -0.000730  257.18  257.44  256.805  257.11   \n",
      "\n",
      "                                                  \n",
      "                             volume daily_return  \n",
      "time                                              \n",
      "2017-10-25 00:00:00-04:00  72200254          NaN  \n",
      "2017-10-26 00:00:00-04:00  37718330     0.001136  \n",
      "2017-10-27 00:00:00-04:00  49910859     0.008177  \n",
      "2017-10-30 00:00:00-04:00  37073374    -0.003415  \n",
      "2017-10-31 00:00:00-04:00  35711419     0.001207  \n"
     ]
    }
   ],
   "source": [
    "# Retirement fund goal: $6000/mo = $ 72000 per year for 10 years or $ 720,000 Fund amount.\n",
    "# Configuring a Monte Carlo simulation to forecast 5 years cumulative returns that would equal that amount.\n",
    "\n",
    "# Goal of this code:\n",
    "# Configuring a Monte Carlo simulation to forecast 5 years cumulative returns of a larger investment \n",
    "# and/or riskier options in order to still have $ 720,000 available in 5 years. \n",
    "\n",
    "# New portfolio weights: 75% stock, 25% bonds\n",
    "\n",
    "# Configure a Monte Carlo simulation (n=500) to forecast one years cumulative returns\n",
    "MC_retr5yr_dist = MCSimulation(\n",
    "    portfolio_data = df_stock_data,\n",
    "    weights = [.75,.25],\n",
    "    num_simulation = 500,\n",
    "    num_trading_days = 252*5\n",
    ")\n",
    "\n",
    "print(MC_retr5yr_dist.portfolio_data.head())"
   ]
  },
  {
   "cell_type": "code",
   "execution_count": 50,
   "metadata": {},
   "outputs": [
    {
     "name": "stdout",
     "output_type": "stream",
     "text": [
      "Running Monte Carlo simulation number 0.\n",
      "Running Monte Carlo simulation number 10.\n",
      "Running Monte Carlo simulation number 20.\n",
      "Running Monte Carlo simulation number 30.\n",
      "Running Monte Carlo simulation number 40.\n",
      "Running Monte Carlo simulation number 50.\n",
      "Running Monte Carlo simulation number 60.\n",
      "Running Monte Carlo simulation number 70.\n",
      "Running Monte Carlo simulation number 80.\n",
      "Running Monte Carlo simulation number 90.\n",
      "Running Monte Carlo simulation number 100.\n",
      "Running Monte Carlo simulation number 110.\n",
      "Running Monte Carlo simulation number 120.\n",
      "Running Monte Carlo simulation number 130.\n",
      "Running Monte Carlo simulation number 140.\n",
      "Running Monte Carlo simulation number 150.\n",
      "Running Monte Carlo simulation number 160.\n",
      "Running Monte Carlo simulation number 170.\n",
      "Running Monte Carlo simulation number 180.\n",
      "Running Monte Carlo simulation number 190.\n",
      "Running Monte Carlo simulation number 200.\n",
      "Running Monte Carlo simulation number 210.\n",
      "Running Monte Carlo simulation number 220.\n",
      "Running Monte Carlo simulation number 230.\n",
      "Running Monte Carlo simulation number 240.\n",
      "Running Monte Carlo simulation number 250.\n",
      "Running Monte Carlo simulation number 260.\n",
      "Running Monte Carlo simulation number 270.\n",
      "Running Monte Carlo simulation number 280.\n",
      "Running Monte Carlo simulation number 290.\n",
      "Running Monte Carlo simulation number 300.\n",
      "Running Monte Carlo simulation number 310.\n",
      "Running Monte Carlo simulation number 320.\n",
      "Running Monte Carlo simulation number 330.\n",
      "Running Monte Carlo simulation number 340.\n",
      "Running Monte Carlo simulation number 350.\n",
      "Running Monte Carlo simulation number 360.\n",
      "Running Monte Carlo simulation number 370.\n",
      "Running Monte Carlo simulation number 380.\n",
      "Running Monte Carlo simulation number 390.\n",
      "Running Monte Carlo simulation number 400.\n",
      "Running Monte Carlo simulation number 410.\n",
      "Running Monte Carlo simulation number 420.\n",
      "Running Monte Carlo simulation number 430.\n",
      "Running Monte Carlo simulation number 440.\n",
      "Running Monte Carlo simulation number 450.\n",
      "Running Monte Carlo simulation number 460.\n",
      "Running Monte Carlo simulation number 470.\n",
      "Running Monte Carlo simulation number 480.\n",
      "Running Monte Carlo simulation number 490.\n",
      "           0         1         2         3         4         5         6    \\\n",
      "0     1.000000  1.000000  1.000000  1.000000  1.000000  1.000000  1.000000   \n",
      "1     1.001636  1.007767  1.005488  1.001613  1.002743  1.001575  0.997184   \n",
      "2     0.998659  1.009845  0.999250  1.001202  1.010443  1.003052  1.001326   \n",
      "3     1.004955  1.012326  1.003922  1.005837  1.004858  1.000718  1.000766   \n",
      "4     1.006830  1.012789  1.004742  1.005072  1.003034  1.002880  1.001991   \n",
      "...        ...       ...       ...       ...       ...       ...       ...   \n",
      "1256  0.808479  1.146452  1.081913  1.402281  1.621981  1.505723  1.338061   \n",
      "1257  0.805780  1.144058  1.093747  1.398913  1.629618  1.502846  1.337399   \n",
      "1258  0.805326  1.141678  1.101241  1.398829  1.630106  1.494023  1.324133   \n",
      "1259  0.802402  1.150551  1.102641  1.408903  1.645418  1.484155  1.333373   \n",
      "1260  0.802890  1.151091  1.102413  1.414894  1.640112  1.498413  1.334683   \n",
      "\n",
      "           7         8         9    ...       490       491       492  \\\n",
      "0     1.000000  1.000000  1.000000  ...  1.000000  1.000000  1.000000   \n",
      "1     1.002282  0.992296  0.995048  ...  0.996818  0.999222  0.998680   \n",
      "2     1.004162  0.992274  0.992029  ...  0.998667  0.996763  0.996154   \n",
      "3     0.999112  0.998717  0.992727  ...  0.997830  0.995177  0.996781   \n",
      "4     1.006306  0.996304  0.996214  ...  1.004258  1.002194  0.997811   \n",
      "...        ...       ...       ...  ...       ...       ...       ...   \n",
      "1256  1.393654  1.188281  1.221699  ...  1.764180  1.425041  1.306730   \n",
      "1257  1.396275  1.181228  1.222740  ...  1.773648  1.423763  1.304921   \n",
      "1258  1.395111  1.188525  1.226271  ...  1.774627  1.428469  1.304527   \n",
      "1259  1.396798  1.189331  1.221540  ...  1.767549  1.425259  1.306017   \n",
      "1260  1.394692  1.197464  1.220802  ...  1.768998  1.423897  1.305634   \n",
      "\n",
      "           493       494       495       496       497       498       499  \n",
      "0     1.000000  1.000000  1.000000  1.000000  1.000000  1.000000  1.000000  \n",
      "1     1.004168  0.998901  1.000740  0.998117  0.991863  1.004524  0.998052  \n",
      "2     1.009874  0.997248  1.006858  1.002228  0.990014  1.002958  0.996324  \n",
      "3     1.005621  0.995736  1.007867  1.001620  0.988426  0.997439  0.998974  \n",
      "4     1.010903  0.991082  1.011220  0.997093  0.993699  0.993969  1.001492  \n",
      "...        ...       ...       ...       ...       ...       ...       ...  \n",
      "1256  1.397556  1.398027  1.551134  1.333395  1.335907  1.187444  1.697618  \n",
      "1257  1.396268  1.398710  1.538657  1.337778  1.336417  1.188485  1.701116  \n",
      "1258  1.388322  1.403235  1.540197  1.341335  1.341577  1.192059  1.705528  \n",
      "1259  1.388972  1.413704  1.543596  1.341790  1.336024  1.194402  1.702637  \n",
      "1260  1.388817  1.401317  1.534276  1.354442  1.346369  1.184503  1.710702  \n",
      "\n",
      "[1261 rows x 500 columns]\n"
     ]
    }
   ],
   "source": [
    "# Running a Monte Carlo simulation to forecast 5 years cumulative returns\n",
    "print(MC_retr5yr_dist.calc_cumulative_return())"
   ]
  },
  {
   "cell_type": "code",
   "execution_count": 51,
   "metadata": {},
   "outputs": [
    {
     "data": {
      "image/png": "[encoded data removed]",
      "text/plain": [
       "<Figure size 432x288 with 1 Axes>"
      ]
     },
     "metadata": {
      "needs_background": "light"
     },
     "output_type": "display_data"
    }
   ],
   "source": [
    "# Plot simulation outcomes\n",
    "line_plot = MC_retr5yr_dist.plot_simulation()"
   ]
  },
  {
   "cell_type": "code",
   "execution_count": 52,
   "metadata": {},
   "outputs": [
    {
     "data": {
      "image/png": "[encoded data removed]",
      "text/plain": [
       "<Figure size 432x288 with 1 Axes>"
      ]
     },
     "metadata": {
      "needs_background": "light"
     },
     "output_type": "display_data"
    }
   ],
   "source": [
    "# Plot probability distribution and confidence intervals\n",
    "dist_plot = MC_retr5yr_dist.plot_distribution()"
   ]
  },
  {
   "cell_type": "code",
   "execution_count": 53,
   "metadata": {},
   "outputs": [
    {
     "name": "stdout",
     "output_type": "stream",
     "text": [
      "count           500.000000\n",
      "mean              1.290620\n",
      "std               0.184568\n",
      "min               0.763372\n",
      "25%               1.163892\n",
      "50%               1.283017\n",
      "75%               1.414790\n",
      "max               2.011395\n",
      "95% CI Lower      0.971916\n",
      "95% CI Upper      1.686028\n",
      "Name: 1260, dtype: float64\n"
     ]
    }
   ],
   "source": [
    "# Fetch summary statistics from the Monte Carlo simulation results\n",
    "retr5yr_tbl = MC_retr5yr_dist.summarize_cumulative_return()\n",
    "\n",
    "# Print summary statistics\n",
    "print(retr5yr_tbl)"
   ]
  },
  {
   "cell_type": "code",
   "execution_count": 54,
   "metadata": {},
   "outputs": [
    {
     "name": "stdout",
     "output_type": "stream",
     "text": [
      "There is a 95% chance that an initial investment of $60000 in the portfolio over the next 5 years will end within in the range of $58314.97 and $101161.67\n"
     ]
    }
   ],
   "source": [
    "# Set nest-egg investment in 5-year plan here:\n",
    "nest5_investment = 60000\n",
    "\n",
    "# Use the lower and upper `95%` confidence intervals to calculate the range of the possible outcomes of our $60,000\n",
    "n5_ci_lower = round(retr5yr_tbl[8]*nest5_investment,2)\n",
    "#Upper as defined above, is the 9th index, 15000 as stated in instructions, 2 digits rounded to\n",
    "n5_ci_upper = round(retr5yr_tbl[9]*nest5_investment,2)\n",
    "\n",
    "# Print results\n",
    "print(f\"There is a 95% chance that an initial investment of ${nest5_investment} in the portfolio\"\n",
    "      f\" over the next 5 years will end within in the range of\"\n",
    "      f\" ${n5_ci_lower} and ${n5_ci_upper}\")"
   ]
  },
  {
   "cell_type": "markdown",
   "metadata": {},
   "source": [
    "### Ten Years Retirement Option"
   ]
  },
  {
   "cell_type": "code",
   "execution_count": 55,
   "metadata": {},
   "outputs": [
    {
     "name": "stdout",
     "output_type": "stream",
     "text": [
      "                              AGG                                     \\\n",
      "                             open     high      low   close   volume   \n",
      "time                                                                   \n",
      "2017-10-25 00:00:00-04:00  108.96  109.130  108.950  109.11  2706969   \n",
      "2017-10-26 00:00:00-04:00  109.20  109.229  108.980  109.00  1488075   \n",
      "2017-10-27 00:00:00-04:00  109.07  109.260  109.035  109.24  1527412   \n",
      "2017-10-30 00:00:00-04:00  109.43  109.560  109.360  109.53  1719161   \n",
      "2017-10-31 00:00:00-04:00  109.52  109.550  109.440  109.45  2427946   \n",
      "\n",
      "                                           SPY                           \\\n",
      "                          daily_return    open    high      low   close   \n",
      "time                                                                      \n",
      "2017-10-25 00:00:00-04:00          NaN  256.19  256.31  254.000  255.30   \n",
      "2017-10-26 00:00:00-04:00    -0.001008  255.99  256.30  255.560  255.59   \n",
      "2017-10-27 00:00:00-04:00     0.002202  256.50  257.89  256.160  257.68   \n",
      "2017-10-30 00:00:00-04:00     0.002655  257.07  257.60  256.410  256.80   \n",
      "2017-10-31 00:00:00-04:00    -0.000730  257.18  257.44  256.805  257.11   \n",
      "\n",
      "                                                  \n",
      "                             volume daily_return  \n",
      "time                                              \n",
      "2017-10-25 00:00:00-04:00  72200254          NaN  \n",
      "2017-10-26 00:00:00-04:00  37718330     0.001136  \n",
      "2017-10-27 00:00:00-04:00  49910859     0.008177  \n",
      "2017-10-30 00:00:00-04:00  37073374    -0.003415  \n",
      "2017-10-31 00:00:00-04:00  35711419     0.001207  \n"
     ]
    }
   ],
   "source": [
    "# Configuring a Monte Carlo simulation to forecast 10 years cumulative returns\n",
    "# Retirement fund goal: $6000/mo = $ 72000 per year for 10 years or $ 720,000 Fund amount.\n",
    "# Configuring a Monte Carlo simulation to forecast 10 years cumulative returns that would equal that amount.\n",
    "\n",
    "\n",
    "# Goal of this code:\n",
    "# Configuring a Monte Carlo simulation to forecast 10 years cumulative returns of a larger investment \n",
    "# and/or riskier options in order to still have $ 720,000 available in 5 years. \n",
    "\n",
    "# This portfolio: 60% stock, 40% bonds\n",
    "\n",
    "# Configure a Monte Carlo simulation (n=100) to forecast one years cumulative returns\n",
    "MC_retr10yr_dist = MCSimulation(\n",
    "    portfolio_data = df_stock_data,\n",
    "    weights = [.60,.40],\n",
    "    num_simulation = 500,\n",
    "    num_trading_days = 252*10\n",
    ")\n",
    "\n",
    "print(MC_retr10yr_dist.portfolio_data.head())"
   ]
  },
  {
   "cell_type": "code",
   "execution_count": 56,
   "metadata": {},
   "outputs": [
    {
     "name": "stdout",
     "output_type": "stream",
     "text": [
      "Running Monte Carlo simulation number 0.\n",
      "Running Monte Carlo simulation number 10.\n",
      "Running Monte Carlo simulation number 20.\n",
      "Running Monte Carlo simulation number 30.\n",
      "Running Monte Carlo simulation number 40.\n",
      "Running Monte Carlo simulation number 50.\n",
      "Running Monte Carlo simulation number 60.\n",
      "Running Monte Carlo simulation number 70.\n",
      "Running Monte Carlo simulation number 80.\n",
      "Running Monte Carlo simulation number 90.\n",
      "Running Monte Carlo simulation number 100.\n",
      "Running Monte Carlo simulation number 110.\n",
      "Running Monte Carlo simulation number 120.\n",
      "Running Monte Carlo simulation number 130.\n",
      "Running Monte Carlo simulation number 140.\n",
      "Running Monte Carlo simulation number 150.\n",
      "Running Monte Carlo simulation number 160.\n",
      "Running Monte Carlo simulation number 170.\n",
      "Running Monte Carlo simulation number 180.\n",
      "Running Monte Carlo simulation number 190.\n",
      "Running Monte Carlo simulation number 200.\n",
      "Running Monte Carlo simulation number 210.\n",
      "Running Monte Carlo simulation number 220.\n",
      "Running Monte Carlo simulation number 230.\n",
      "Running Monte Carlo simulation number 240.\n",
      "Running Monte Carlo simulation number 250.\n",
      "Running Monte Carlo simulation number 260.\n",
      "Running Monte Carlo simulation number 270.\n",
      "Running Monte Carlo simulation number 280.\n",
      "Running Monte Carlo simulation number 290.\n",
      "Running Monte Carlo simulation number 300.\n",
      "Running Monte Carlo simulation number 310.\n",
      "Running Monte Carlo simulation number 320.\n",
      "Running Monte Carlo simulation number 330.\n",
      "Running Monte Carlo simulation number 340.\n",
      "Running Monte Carlo simulation number 350.\n",
      "Running Monte Carlo simulation number 360.\n",
      "Running Monte Carlo simulation number 370.\n",
      "Running Monte Carlo simulation number 380.\n",
      "Running Monte Carlo simulation number 390.\n",
      "Running Monte Carlo simulation number 400.\n",
      "Running Monte Carlo simulation number 410.\n",
      "Running Monte Carlo simulation number 420.\n",
      "Running Monte Carlo simulation number 430.\n",
      "Running Monte Carlo simulation number 440.\n",
      "Running Monte Carlo simulation number 450.\n",
      "Running Monte Carlo simulation number 460.\n",
      "Running Monte Carlo simulation number 470.\n",
      "Running Monte Carlo simulation number 480.\n",
      "Running Monte Carlo simulation number 490.\n",
      "           0         1         2         3         4         5         6    \\\n",
      "0     1.000000  1.000000  1.000000  1.000000  1.000000  1.000000  1.000000   \n",
      "1     1.001099  0.996201  0.999207  1.010798  0.994486  1.001129  0.998596   \n",
      "2     1.000805  0.993877  1.002830  1.007372  0.994957  1.004694  1.000238   \n",
      "3     0.999835  0.992416  1.006222  1.002593  0.995621  1.001736  1.003383   \n",
      "4     1.000322  0.986616  1.012897  0.993055  0.999025  1.004482  1.010105   \n",
      "...        ...       ...       ...       ...       ...       ...       ...   \n",
      "2516  1.739669  2.215819  1.829003  1.871035  2.121613  2.541185  1.734949   \n",
      "2517  1.745505  2.218790  1.850500  1.891679  2.133791  2.558402  1.717630   \n",
      "2518  1.762640  2.208468  1.851243  1.873292  2.130372  2.571537  1.717215   \n",
      "2519  1.756533  2.212146  1.849459  1.882049  2.154616  2.545555  1.726309   \n",
      "2520  1.771441  2.199121  1.858262  1.901767  2.178119  2.551814  1.736837   \n",
      "\n",
      "           7         8         9    ...       490       491       492  \\\n",
      "0     1.000000  1.000000  1.000000  ...  1.000000  1.000000  1.000000   \n",
      "1     0.999668  0.998704  1.001578  ...  1.000497  1.018805  0.992528   \n",
      "2     0.990235  0.999466  1.011355  ...  1.006400  1.020646  0.991323   \n",
      "3     0.994566  0.996545  1.013868  ...  0.999255  1.016271  0.995869   \n",
      "4     0.993946  0.998133  1.012667  ...  0.995964  1.015909  1.005700   \n",
      "...        ...       ...       ...  ...       ...       ...       ...   \n",
      "2516  1.689842  2.352620  2.101135  ...  2.998665  1.347139  2.548886   \n",
      "2517  1.703662  2.369295  2.084379  ...  3.008497  1.352082  2.526756   \n",
      "2518  1.704542  2.370777  2.083529  ...  3.000430  1.358050  2.535190   \n",
      "2519  1.696995  2.374542  2.078845  ...  3.035872  1.337695  2.545530   \n",
      "2520  1.691986  2.374948  2.090253  ...  3.011626  1.342366  2.552991   \n",
      "\n",
      "           493       494       495       496       497       498       499  \n",
      "0     1.000000  1.000000  1.000000  1.000000  1.000000  1.000000  1.000000  \n",
      "1     0.998558  0.997429  1.004092  1.017124  1.003252  0.998232  1.001286  \n",
      "2     0.992383  0.982532  1.004551  1.015898  0.994829  1.004072  0.998925  \n",
      "3     0.993648  0.980788  1.005133  1.010863  0.995731  0.997191  1.007199  \n",
      "4     0.991948  0.986718  1.010819  1.005217  1.001795  1.007298  1.006352  \n",
      "...        ...       ...       ...       ...       ...       ...       ...  \n",
      "2516  2.740331  2.084125  1.445354  2.810368  2.476382  1.935932  2.397633  \n",
      "2517  2.723738  2.084959  1.434833  2.806861  2.485602  1.937586  2.435348  \n",
      "2518  2.727594  2.091028  1.424395  2.805009  2.487206  1.967779  2.421101  \n",
      "2519  2.723392  2.097917  1.417878  2.817948  2.479985  1.971530  2.406927  \n",
      "2520  2.708423  2.093414  1.421905  2.834478  2.485304  1.975944  2.403855  \n",
      "\n",
      "[2521 rows x 500 columns]\n"
     ]
    }
   ],
   "source": [
    "# Running a Monte Carlo simulation to forecast 10 years cumulative returns\n",
    "print(MC_retr10yr_dist.calc_cumulative_return())"
   ]
  },
  {
   "cell_type": "code",
   "execution_count": 57,
   "metadata": {},
   "outputs": [
    {
     "data": {
      "image/png": "[encoded data removed]",
      "text/plain": [
       "<Figure size 432x288 with 1 Axes>"
      ]
     },
     "metadata": {
      "needs_background": "light"
     },
     "output_type": "display_data"
    }
   ],
   "source": [
    "# Plot simulation outcomes\n",
    "line_plot = MC_retr10yr_dist.plot_simulation()"
   ]
  },
  {
   "cell_type": "code",
   "execution_count": 58,
   "metadata": {},
   "outputs": [
    {
     "data": {
      "image/png": "[encoded data removed]",
      "text/plain": [
       "<Figure size 432x288 with 1 Axes>"
      ]
     },
     "metadata": {
      "needs_background": "light"
     },
     "output_type": "display_data"
    }
   ],
   "source": [
    "# Plot probability distribution and confidence intervals\n",
    "dist_plot = MC_retr10yr_dist.plot_distribution()"
   ]
  },
  {
   "cell_type": "code",
   "execution_count": 59,
   "metadata": {},
   "outputs": [
    {
     "name": "stdout",
     "output_type": "stream",
     "text": [
      "count           500.000000\n",
      "mean              2.035260\n",
      "std               0.576716\n",
      "min               0.676329\n",
      "25%               1.620359\n",
      "50%               1.952382\n",
      "75%               2.376215\n",
      "max               4.426509\n",
      "95% CI Lower      1.183006\n",
      "95% CI Upper      3.271450\n",
      "Name: 2520, dtype: float64\n"
     ]
    }
   ],
   "source": [
    "# Fetch summary statistics from the Monte Carlo simulation results\n",
    "retr10yr_tbl = MC_retr10yr_dist.summarize_cumulative_return()\n",
    "\n",
    "# Print summary statistics\n",
    "print(retr10yr_tbl)"
   ]
  },
  {
   "cell_type": "code",
   "execution_count": 60,
   "metadata": {},
   "outputs": [
    {
     "name": "stdout",
     "output_type": "stream",
     "text": [
      "There is a 95% chance that an initial investment of $60000 in the portfolio over the next 10 years will end within in the range of $70980.36 and $196286.99\n"
     ]
    }
   ],
   "source": [
    "# Set nest egg increased investment amount to $ 60,000\n",
    "nest10_investment = 60000\n",
    "\n",
    "# Use the lower and upper `95%` confidence intervals to calculate the range of the possible outcomes of our $60,000\n",
    "n10_ci_lower = round(retr10yr_tbl[8]*nest10_investment,2)\n",
    "#Upper as defined above, is the 9th index, 15000 as stated in instructions, 2 digits rounded to\n",
    "n10_ci_upper = round(retr10yr_tbl[9]*nest10_investment,2)\n",
    "\n",
    "# Print results\n",
    "print(f\"There is a 95% chance that an initial investment of ${nest10_investment} in the portfolio\"\n",
    "      f\" over the next 10 years will end within in the range of\"\n",
    "      f\" ${n10_ci_lower} and ${n10_ci_upper}\")"
   ]
  },
  {
   "cell_type": "code",
   "execution_count": null,
   "metadata": {},
   "outputs": [],
   "source": []
  }
 ],
 "metadata": {
  "kernelspec": {
   "display_name": "Python 3",
   "language": "python",
   "name": "python3"
  },
  "language_info": {
   "codemirror_mode": {
    "name": "ipython",
    "version": 3
   },
   "file_extension": ".py",
   "mimetype": "text/x-python",
   "name": "python",
   "nbconvert_exporter": "python",
   "pygments_lexer": "ipython3",
   "version": "3.7.10"
  },
  "nteract": {
   "version": "0.28.0"
  }
 },
 "nbformat": 4,
 "nbformat_minor": 4
}
