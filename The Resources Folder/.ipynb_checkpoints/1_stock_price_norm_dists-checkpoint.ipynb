{
 "cells": [
  {
   "cell_type": "markdown",
   "metadata": {},
   "source": [
    "# Demo: Normal Distribution of Stock Ticker Data\n",
    "\n",
    "This program retrieves stock price data using the Alpaca API and plots the data using Pandas. These plots demonstrate the distribution of daily stock closing prices compared to the expected normal probability distribution. "
   ]
  },
  {
   "cell_type": "markdown",
   "metadata": {},
   "source": [
    "<font color='red'>Comment</font>\n",
    "\n",
    "The main takeaway here is the visualizations at the end."
   ]
  },
  {
   "cell_type": "markdown",
   "metadata": {},
   "source": [
    "## Import Dependencies"
   ]
  },
  {
   "cell_type": "code",
   "execution_count": 2,
   "metadata": {
    "tags": []
   },
   "outputs": [],
   "source": [
    "# Import libraries and dependencies\n",
    "import os\n",
    "import pandas as pd\n",
    "import alpaca_trade_api as tradeapi\n",
    "\n",
    "# Load .env enviroment variables\n",
    "from dotenv import load_dotenv\n",
    "import pathlib\n",
    "#load_dotenv()  # for mac\n",
    "home = pathlib.Path.home() / \".env\"  # for pc 1/2\n",
    "load_dotenv(dotenv_path=home)  # for pc 2/2\n",
    "\n",
    "%matplotlib inline"
   ]
  },
  {
   "cell_type": "code",
   "execution_count": 3,
   "metadata": {
    "tags": []
   },
   "outputs": [],
   "source": [
    "# Set Alpaca API key and secret\n",
    "alpaca_api_key = os.getenv(\"ALPACA_API_KEY\")\n",
    "alpaca_secret_key = os.getenv(\"ALPACA_SECRET_KEY\")\n",
    "\n",
    "# Create the Alpaca API object\n",
    "alpaca = tradeapi.REST(\n",
    "    alpaca_api_key,\n",
    "    alpaca_secret_key,\n",
    "    api_version=\"v2\"\n",
    ")"
   ]
  },
  {
   "cell_type": "markdown",
   "metadata": {},
   "source": [
    "## Get 1 Year's Worth of Stock Price Data via Alpaca API Call and Read in as DataFrame "
   ]
  },
  {
   "cell_type": "markdown",
   "metadata": {},
   "source": [
    "<font color='red'>Comment</font>\n",
    "\n",
    "Limit 1000 is max."
   ]
  },
  {
   "cell_type": "code",
   "execution_count": 4,
   "metadata": {},
   "outputs": [
    {
     "data": {
      "text/html": [
       "<div>\n",
       "<style scoped>\n",
       "    .dataframe tbody tr th:only-of-type {\n",
       "        vertical-align: middle;\n",
       "    }\n",
       "\n",
       "    .dataframe tbody tr th {\n",
       "        vertical-align: top;\n",
       "    }\n",
       "\n",
       "    .dataframe thead tr th {\n",
       "        text-align: left;\n",
       "    }\n",
       "\n",
       "    .dataframe thead tr:last-of-type th {\n",
       "        text-align: right;\n",
       "    }\n",
       "</style>\n",
       "<table border=\"1\" class=\"dataframe\">\n",
       "  <thead>\n",
       "    <tr>\n",
       "      <th></th>\n",
       "      <th colspan=\"5\" halign=\"left\">KO</th>\n",
       "      <th colspan=\"5\" halign=\"left\">TSLA</th>\n",
       "    </tr>\n",
       "    <tr>\n",
       "      <th></th>\n",
       "      <th>open</th>\n",
       "      <th>high</th>\n",
       "      <th>low</th>\n",
       "      <th>close</th>\n",
       "      <th>volume</th>\n",
       "      <th>open</th>\n",
       "      <th>high</th>\n",
       "      <th>low</th>\n",
       "      <th>close</th>\n",
       "      <th>volume</th>\n",
       "    </tr>\n",
       "    <tr>\n",
       "      <th>time</th>\n",
       "      <th></th>\n",
       "      <th></th>\n",
       "      <th></th>\n",
       "      <th></th>\n",
       "      <th></th>\n",
       "      <th></th>\n",
       "      <th></th>\n",
       "      <th></th>\n",
       "      <th></th>\n",
       "      <th></th>\n",
       "    </tr>\n",
       "  </thead>\n",
       "  <tbody>\n",
       "    <tr>\n",
       "      <th>2020-09-01 00:00:00-04:00</th>\n",
       "      <td>49.3100</td>\n",
       "      <td>49.3500</td>\n",
       "      <td>48.83</td>\n",
       "      <td>49.12</td>\n",
       "      <td>22661628</td>\n",
       "      <td>502.14</td>\n",
       "      <td>502.49</td>\n",
       "      <td>470.5100</td>\n",
       "      <td>475.0400</td>\n",
       "      <td>81257715</td>\n",
       "    </tr>\n",
       "    <tr>\n",
       "      <th>2020-09-02 00:00:00-04:00</th>\n",
       "      <td>49.3600</td>\n",
       "      <td>51.3600</td>\n",
       "      <td>49.36</td>\n",
       "      <td>51.18</td>\n",
       "      <td>45640208</td>\n",
       "      <td>478.99</td>\n",
       "      <td>479.04</td>\n",
       "      <td>405.1206</td>\n",
       "      <td>447.2450</td>\n",
       "      <td>92367647</td>\n",
       "    </tr>\n",
       "    <tr>\n",
       "      <th>2020-09-03 00:00:00-04:00</th>\n",
       "      <td>51.4000</td>\n",
       "      <td>52.1378</td>\n",
       "      <td>50.10</td>\n",
       "      <td>50.48</td>\n",
       "      <td>38000906</td>\n",
       "      <td>407.23</td>\n",
       "      <td>431.80</td>\n",
       "      <td>402.0000</td>\n",
       "      <td>407.0000</td>\n",
       "      <td>80478522</td>\n",
       "    </tr>\n",
       "    <tr>\n",
       "      <th>2020-09-04 00:00:00-04:00</th>\n",
       "      <td>50.9400</td>\n",
       "      <td>51.4650</td>\n",
       "      <td>50.28</td>\n",
       "      <td>51.04</td>\n",
       "      <td>33548502</td>\n",
       "      <td>402.81</td>\n",
       "      <td>428.00</td>\n",
       "      <td>372.0201</td>\n",
       "      <td>417.9307</td>\n",
       "      <td>101060529</td>\n",
       "    </tr>\n",
       "    <tr>\n",
       "      <th>2020-09-08 00:00:00-04:00</th>\n",
       "      <td>50.9300</td>\n",
       "      <td>51.0400</td>\n",
       "      <td>49.36</td>\n",
       "      <td>49.80</td>\n",
       "      <td>30354492</td>\n",
       "      <td>356.00</td>\n",
       "      <td>368.74</td>\n",
       "      <td>329.8800</td>\n",
       "      <td>330.0200</td>\n",
       "      <td>103446741</td>\n",
       "    </tr>\n",
       "    <tr>\n",
       "      <th>2020-09-09 00:00:00-04:00</th>\n",
       "      <td>49.6000</td>\n",
       "      <td>50.7550</td>\n",
       "      <td>49.55</td>\n",
       "      <td>50.18</td>\n",
       "      <td>26430643</td>\n",
       "      <td>356.60</td>\n",
       "      <td>369.00</td>\n",
       "      <td>341.5100</td>\n",
       "      <td>366.2100</td>\n",
       "      <td>73161075</td>\n",
       "    </tr>\n",
       "    <tr>\n",
       "      <th>2020-09-10 00:00:00-04:00</th>\n",
       "      <td>50.1395</td>\n",
       "      <td>50.6750</td>\n",
       "      <td>49.95</td>\n",
       "      <td>50.00</td>\n",
       "      <td>23109377</td>\n",
       "      <td>387.72</td>\n",
       "      <td>398.99</td>\n",
       "      <td>360.5600</td>\n",
       "      <td>370.5000</td>\n",
       "      <td>67341190</td>\n",
       "    </tr>\n",
       "    <tr>\n",
       "      <th>2020-09-11 00:00:00-04:00</th>\n",
       "      <td>50.4000</td>\n",
       "      <td>51.2000</td>\n",
       "      <td>50.10</td>\n",
       "      <td>51.05</td>\n",
       "      <td>31287294</td>\n",
       "      <td>381.94</td>\n",
       "      <td>382.50</td>\n",
       "      <td>360.5000</td>\n",
       "      <td>372.4101</td>\n",
       "      <td>58016059</td>\n",
       "    </tr>\n",
       "    <tr>\n",
       "      <th>2020-09-14 00:00:00-04:00</th>\n",
       "      <td>50.9700</td>\n",
       "      <td>51.2300</td>\n",
       "      <td>50.57</td>\n",
       "      <td>50.70</td>\n",
       "      <td>18345186</td>\n",
       "      <td>380.95</td>\n",
       "      <td>420.00</td>\n",
       "      <td>373.3000</td>\n",
       "      <td>419.7650</td>\n",
       "      <td>79130201</td>\n",
       "    </tr>\n",
       "    <tr>\n",
       "      <th>2020-09-15 00:00:00-04:00</th>\n",
       "      <td>51.0000</td>\n",
       "      <td>51.3800</td>\n",
       "      <td>50.84</td>\n",
       "      <td>51.05</td>\n",
       "      <td>9339177</td>\n",
       "      <td>436.56</td>\n",
       "      <td>461.94</td>\n",
       "      <td>430.7000</td>\n",
       "      <td>449.3800</td>\n",
       "      <td>93230923</td>\n",
       "    </tr>\n",
       "  </tbody>\n",
       "</table>\n",
       "</div>"
      ],
      "text/plain": [
       "                                KO                                     TSLA  \\\n",
       "                              open     high    low  close    volume    open   \n",
       "time                                                                          \n",
       "2020-09-01 00:00:00-04:00  49.3100  49.3500  48.83  49.12  22661628  502.14   \n",
       "2020-09-02 00:00:00-04:00  49.3600  51.3600  49.36  51.18  45640208  478.99   \n",
       "2020-09-03 00:00:00-04:00  51.4000  52.1378  50.10  50.48  38000906  407.23   \n",
       "2020-09-04 00:00:00-04:00  50.9400  51.4650  50.28  51.04  33548502  402.81   \n",
       "2020-09-08 00:00:00-04:00  50.9300  51.0400  49.36  49.80  30354492  356.00   \n",
       "2020-09-09 00:00:00-04:00  49.6000  50.7550  49.55  50.18  26430643  356.60   \n",
       "2020-09-10 00:00:00-04:00  50.1395  50.6750  49.95  50.00  23109377  387.72   \n",
       "2020-09-11 00:00:00-04:00  50.4000  51.2000  50.10  51.05  31287294  381.94   \n",
       "2020-09-14 00:00:00-04:00  50.9700  51.2300  50.57  50.70  18345186  380.95   \n",
       "2020-09-15 00:00:00-04:00  51.0000  51.3800  50.84  51.05   9339177  436.56   \n",
       "\n",
       "                                                                  \n",
       "                             high       low     close     volume  \n",
       "time                                                              \n",
       "2020-09-01 00:00:00-04:00  502.49  470.5100  475.0400   81257715  \n",
       "2020-09-02 00:00:00-04:00  479.04  405.1206  447.2450   92367647  \n",
       "2020-09-03 00:00:00-04:00  431.80  402.0000  407.0000   80478522  \n",
       "2020-09-04 00:00:00-04:00  428.00  372.0201  417.9307  101060529  \n",
       "2020-09-08 00:00:00-04:00  368.74  329.8800  330.0200  103446741  \n",
       "2020-09-09 00:00:00-04:00  369.00  341.5100  366.2100   73161075  \n",
       "2020-09-10 00:00:00-04:00  398.99  360.5600  370.5000   67341190  \n",
       "2020-09-11 00:00:00-04:00  382.50  360.5000  372.4101   58016059  \n",
       "2020-09-14 00:00:00-04:00  420.00  373.3000  419.7650   79130201  \n",
       "2020-09-15 00:00:00-04:00  461.94  430.7000  449.3800   93230923  "
      ]
     },
     "execution_count": 4,
     "metadata": {},
     "output_type": "execute_result"
    }
   ],
   "source": [
    "# Set the Tesla and Coca-Cola tickers\n",
    "ticker = [\"TSLA\",\"KO\"]\n",
    "\n",
    "# Set timeframe to '1D'\n",
    "timeframe = \"1D\"\n",
    "\n",
    "# Set start and end datetimes of 1 year, between now and 365 days ago.\n",
    "start_date = pd.Timestamp(\"2020-09-01\", tz=\"America/New_York\").isoformat()\n",
    "end_date = pd.Timestamp(\"2021-09-01\", tz=\"America/New_York\").isoformat()\n",
    "\n",
    "# Get 1 year's worth of historical data for Tesla and Coca-Cola\n",
    "df_ticker = alpaca.get_barset(\n",
    "    ticker,\n",
    "    timeframe,\n",
    "    start=start_date,\n",
    "    end=end_date,\n",
    "    limit=1000,\n",
    ").df\n",
    "\n",
    "# Display sample data\n",
    "df_ticker.head(10)"
   ]
  },
  {
   "cell_type": "markdown",
   "metadata": {},
   "source": [
    "## Pick closing prices and compute the daily returns"
   ]
  },
  {
   "cell_type": "markdown",
   "metadata": {},
   "source": [
    "<font color='red'>Comment</font>\n",
    "\n",
    "We only want closing prices."
   ]
  },
  {
   "cell_type": "code",
   "execution_count": 5,
   "metadata": {},
   "outputs": [
    {
     "data": {
      "text/html": [
       "<div>\n",
       "<style scoped>\n",
       "    .dataframe tbody tr th:only-of-type {\n",
       "        vertical-align: middle;\n",
       "    }\n",
       "\n",
       "    .dataframe tbody tr th {\n",
       "        vertical-align: top;\n",
       "    }\n",
       "\n",
       "    .dataframe thead th {\n",
       "        text-align: right;\n",
       "    }\n",
       "</style>\n",
       "<table border=\"1\" class=\"dataframe\">\n",
       "  <thead>\n",
       "    <tr style=\"text-align: right;\">\n",
       "      <th></th>\n",
       "      <th>KO</th>\n",
       "      <th>TSLA</th>\n",
       "    </tr>\n",
       "  </thead>\n",
       "  <tbody>\n",
       "    <tr>\n",
       "      <th>2020-09-02</th>\n",
       "      <td>0.041938</td>\n",
       "      <td>-0.058511</td>\n",
       "    </tr>\n",
       "    <tr>\n",
       "      <th>2020-09-03</th>\n",
       "      <td>-0.013677</td>\n",
       "      <td>-0.089984</td>\n",
       "    </tr>\n",
       "    <tr>\n",
       "      <th>2020-09-04</th>\n",
       "      <td>0.011094</td>\n",
       "      <td>0.026857</td>\n",
       "    </tr>\n",
       "    <tr>\n",
       "      <th>2020-09-08</th>\n",
       "      <td>-0.024295</td>\n",
       "      <td>-0.210348</td>\n",
       "    </tr>\n",
       "    <tr>\n",
       "      <th>2020-09-09</th>\n",
       "      <td>0.007631</td>\n",
       "      <td>0.109660</td>\n",
       "    </tr>\n",
       "    <tr>\n",
       "      <th>2020-09-10</th>\n",
       "      <td>-0.003587</td>\n",
       "      <td>0.011715</td>\n",
       "    </tr>\n",
       "    <tr>\n",
       "      <th>2020-09-11</th>\n",
       "      <td>0.021000</td>\n",
       "      <td>0.005155</td>\n",
       "    </tr>\n",
       "    <tr>\n",
       "      <th>2020-09-14</th>\n",
       "      <td>-0.006856</td>\n",
       "      <td>0.127158</td>\n",
       "    </tr>\n",
       "    <tr>\n",
       "      <th>2020-09-15</th>\n",
       "      <td>0.006903</td>\n",
       "      <td>0.070551</td>\n",
       "    </tr>\n",
       "    <tr>\n",
       "      <th>2020-09-16</th>\n",
       "      <td>-0.004897</td>\n",
       "      <td>-0.016957</td>\n",
       "    </tr>\n",
       "  </tbody>\n",
       "</table>\n",
       "</div>"
      ],
      "text/plain": [
       "                  KO      TSLA\n",
       "2020-09-02  0.041938 -0.058511\n",
       "2020-09-03 -0.013677 -0.089984\n",
       "2020-09-04  0.011094  0.026857\n",
       "2020-09-08 -0.024295 -0.210348\n",
       "2020-09-09  0.007631  0.109660\n",
       "2020-09-10 -0.003587  0.011715\n",
       "2020-09-11  0.021000  0.005155\n",
       "2020-09-14 -0.006856  0.127158\n",
       "2020-09-15  0.006903  0.070551\n",
       "2020-09-16 -0.004897 -0.016957"
      ]
     },
     "execution_count": 5,
     "metadata": {},
     "output_type": "execute_result"
    }
   ],
   "source": [
    "# Create and empty DataFrame for closing prices\n",
    "df_closing_prices = pd.DataFrame()\n",
    "\n",
    "# Fetch the closing prices of KO and TSLA\n",
    "df_closing_prices[\"KO\"] = df_ticker[\"KO\"][\"close\"]\n",
    "df_closing_prices[\"TSLA\"] = df_ticker[\"TSLA\"][\"close\"]\n",
    "\n",
    "# Drop the time component of the date\n",
    "df_closing_prices.index = df_closing_prices.index.date\n",
    "\n",
    "# Compute daily returns\n",
    "df_daily_returns = df_closing_prices.pct_change().dropna()\n",
    "\n",
    "# Display sample data\n",
    "df_daily_returns.head(10)"
   ]
  },
  {
   "cell_type": "code",
   "execution_count": 6,
   "metadata": {},
   "outputs": [
    {
     "data": {
      "text/html": [
       "<div>\n",
       "<style scoped>\n",
       "    .dataframe tbody tr th:only-of-type {\n",
       "        vertical-align: middle;\n",
       "    }\n",
       "\n",
       "    .dataframe tbody tr th {\n",
       "        vertical-align: top;\n",
       "    }\n",
       "\n",
       "    .dataframe thead th {\n",
       "        text-align: right;\n",
       "    }\n",
       "</style>\n",
       "<table border=\"1\" class=\"dataframe\">\n",
       "  <thead>\n",
       "    <tr style=\"text-align: right;\">\n",
       "      <th></th>\n",
       "      <th>KO</th>\n",
       "      <th>TSLA</th>\n",
       "    </tr>\n",
       "  </thead>\n",
       "  <tbody>\n",
       "    <tr>\n",
       "      <th>count</th>\n",
       "      <td>252.000000</td>\n",
       "      <td>252.000000</td>\n",
       "    </tr>\n",
       "    <tr>\n",
       "      <th>mean</th>\n",
       "      <td>0.000633</td>\n",
       "      <td>0.002516</td>\n",
       "    </tr>\n",
       "    <tr>\n",
       "      <th>std</th>\n",
       "      <td>0.011308</td>\n",
       "      <td>0.039680</td>\n",
       "    </tr>\n",
       "    <tr>\n",
       "      <th>min</th>\n",
       "      <td>-0.038485</td>\n",
       "      <td>-0.210348</td>\n",
       "    </tr>\n",
       "    <tr>\n",
       "      <th>25%</th>\n",
       "      <td>-0.004713</td>\n",
       "      <td>-0.020118</td>\n",
       "    </tr>\n",
       "    <tr>\n",
       "      <th>50%</th>\n",
       "      <td>0.000937</td>\n",
       "      <td>0.002188</td>\n",
       "    </tr>\n",
       "    <tr>\n",
       "      <th>75%</th>\n",
       "      <td>0.006945</td>\n",
       "      <td>0.023407</td>\n",
       "    </tr>\n",
       "    <tr>\n",
       "      <th>max</th>\n",
       "      <td>0.062879</td>\n",
       "      <td>0.196476</td>\n",
       "    </tr>\n",
       "  </tbody>\n",
       "</table>\n",
       "</div>"
      ],
      "text/plain": [
       "               KO        TSLA\n",
       "count  252.000000  252.000000\n",
       "mean     0.000633    0.002516\n",
       "std      0.011308    0.039680\n",
       "min     -0.038485   -0.210348\n",
       "25%     -0.004713   -0.020118\n",
       "50%      0.000937    0.002188\n",
       "75%      0.006945    0.023407\n",
       "max      0.062879    0.196476"
      ]
     },
     "execution_count": 6,
     "metadata": {},
     "output_type": "execute_result"
    }
   ],
   "source": [
    "# Generate descriptive statistics\n",
    "df_daily_returns.describe()"
   ]
  },
  {
   "cell_type": "markdown",
   "metadata": {},
   "source": [
    "<font color='red'>Comment</font>\n",
    "\n",
    "The std shows us how far values are away from the mean. It also reflects how \"wide\" or the distributions [kurtosis](https://www.investopedia.com/terms/k/kurtosis.asp), or peaked-ness/pointiness. We've not talked about kurtosis, but it is highly relevant!"
   ]
  },
  {
   "cell_type": "markdown",
   "metadata": {},
   "source": [
    "### Plot Distributions"
   ]
  },
  {
   "cell_type": "code",
   "execution_count": 10,
   "metadata": {},
   "outputs": [
    {
     "data": {
      "text/plain": [
       "<AxesSubplot:title={'center':'TSLA'}, ylabel='Frequency'>"
      ]
     },
     "execution_count": 10,
     "metadata": {},
     "output_type": "execute_result"
    },
    {
     "data": {
      "image/png": "[encoded data removed]",
      "text/plain": [
       "<Figure size 432x288 with 1 Axes>"
      ]
     },
     "metadata": {
      "needs_background": "light"
     },
     "output_type": "display_data"
    }
   ],
   "source": [
    "# Visualize distribution of Tesla percent change in closing price using a histogram plot\n",
    "# bin charts really affect presentation\n",
    "df_daily_returns[\"TSLA\"].plot.hist(title=\"TSLA\")"
   ]
  },
  {
   "cell_type": "code",
   "execution_count": 9,
   "metadata": {},
   "outputs": [
    {
     "data": {
      "text/plain": [
       "<AxesSubplot:title={'center':'KO'}, ylabel='Frequency'>"
      ]
     },
     "execution_count": 9,
     "metadata": {},
     "output_type": "execute_result"
    },
    {
     "data": {
      "image/png": "[encoded data removed]",
      "text/plain": [
       "<Figure size 432x288 with 1 Axes>"
      ]
     },
     "metadata": {
      "needs_background": "light"
     },
     "output_type": "display_data"
    }
   ],
   "source": [
    "# Visualize distribution of Coca-Cola percent change in closing price using a histogram plot\n",
    "df_daily_returns[\"KO\"].plot.hist(title=\"KO\")\n",
    "# this one is a bit more granular, more specific"
   ]
  },
  {
   "cell_type": "markdown",
   "metadata": {},
   "source": [
    "<font color='red'>Comment</font>\n",
    "\n",
    "See the bell?"
   ]
  },
  {
   "cell_type": "code",
   "execution_count": 10,
   "metadata": {},
   "outputs": [
    {
     "data": {
      "text/plain": [
       "<AxesSubplot:ylabel='Density'>"
      ]
     },
     "execution_count": 10,
     "metadata": {},
     "output_type": "execute_result"
    },
    {
     "data": {
      "image/png": "[encoded data removed]",
      "text/plain": [
       "<Figure size 432x288 with 1 Axes>"
      ]
     },
     "metadata": {
      "needs_background": "light"
     },
     "output_type": "display_data"
    }
   ],
   "source": [
    "# Visualize the distribution of percent change in closing price for both stocks using a density plot\n",
    "# this uses kernel smoothers - result is more helpful as far as big picture.\n",
    "df_daily_returns.plot.density()"
   ]
  },
  {
   "cell_type": "markdown",
   "metadata": {},
   "source": [
    "<font color='red'>Comment</font>\n",
    "\n",
    "\"Kernel smoothers\" allow us to take bins and transform them into smooth lines.\n",
    "\n",
    "Either way, the visuals help us make educated guesses about future stock returns."
   ]
  },
  {
   "cell_type": "code",
   "execution_count": null,
   "metadata": {},
   "outputs": [],
   "source": []
  }
 ],
 "metadata": {
  "kernel_info": {
   "name": "python3"
  },
  "kernelspec": {
   "display_name": "Python 3",
   "language": "python",
   "name": "python3"
  },
  "language_info": {
   "codemirror_mode": {
    "name": "ipython",
    "version": 3
   },
   "file_extension": ".py",
   "mimetype": "text/x-python",
   "name": "python",
   "nbconvert_exporter": "python",
   "pygments_lexer": "ipython3",
   "version": "3.7.10"
  },
  "nteract": {
   "version": "0.12.3"
  }
 },
 "nbformat": 4,
 "nbformat_minor": 4
}
