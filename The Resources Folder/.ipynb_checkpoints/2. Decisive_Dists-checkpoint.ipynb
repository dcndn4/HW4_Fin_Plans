{
 "cells": [
  {
   "cell_type": "markdown",
   "metadata": {},
   "source": [
    "## Decisive Distributions\n",
    "\n",
    "### Import Dependencies"
   ]
  },
  {
   "cell_type": "code",
   "execution_count": 4,
   "metadata": {
    "tags": []
   },
   "outputs": [],
   "source": [
    "# Import libraries and dependencies\n",
    "import os\n",
    "import pandas as pd\n",
    "import alpaca_trade_api as tradeapi\n",
    "\n",
    "# Load .env enviroment variables\n",
    "from dotenv import load_dotenv\n",
    "import pathlib\n",
    "#load_dotenv()  # for mac\n",
    "home = pathlib.Path.home() / \".env\"  # for pc 1/2\n",
    "load_dotenv(dotenv_path=home)  # for pc 2/2\n",
    "\n",
    "%matplotlib inline"
   ]
  },
  {
   "cell_type": "code",
   "execution_count": 5,
   "metadata": {
    "tags": []
   },
   "outputs": [],
   "source": [
    "# Setup Alpaca API environment\n",
    "alpaca_api_key = os.getenv(\"ALPACA_API_KEY\")\n",
    "alpaca_secret_key = os.getenv(\"ALPACA_SECRET_KEY\")\n",
    "\n",
    "api = tradeapi.REST(\n",
    "    alpaca_api_key,\n",
    "    alpaca_secret_key,\n",
    "    api_version=\"v2\"\n",
    ")"
   ]
  },
  {
   "cell_type": "markdown",
   "metadata": {},
   "source": [
    "### Read in stock data using Alpaca API"
   ]
  },
  {
   "cell_type": "markdown",
   "metadata": {},
   "source": [
    "<font color='red'>Comment</font>\n",
    "\n",
    "Many stocks!"
   ]
  },
  {
   "cell_type": "code",
   "execution_count": 6,
   "metadata": {},
   "outputs": [
    {
     "data": {
      "text/html": [
       "<div>\n",
       "<style scoped>\n",
       "    .dataframe tbody tr th:only-of-type {\n",
       "        vertical-align: middle;\n",
       "    }\n",
       "\n",
       "    .dataframe tbody tr th {\n",
       "        vertical-align: top;\n",
       "    }\n",
       "\n",
       "    .dataframe thead tr th {\n",
       "        text-align: left;\n",
       "    }\n",
       "\n",
       "    .dataframe thead tr:last-of-type th {\n",
       "        text-align: right;\n",
       "    }\n",
       "</style>\n",
       "<table border=\"1\" class=\"dataframe\">\n",
       "  <thead>\n",
       "    <tr>\n",
       "      <th></th>\n",
       "      <th colspan=\"5\" halign=\"left\">AAPL</th>\n",
       "      <th colspan=\"5\" halign=\"left\">DIS</th>\n",
       "      <th>...</th>\n",
       "      <th colspan=\"5\" halign=\"left\">SPY</th>\n",
       "      <th colspan=\"5\" halign=\"left\">WORK</th>\n",
       "    </tr>\n",
       "    <tr>\n",
       "      <th></th>\n",
       "      <th>open</th>\n",
       "      <th>high</th>\n",
       "      <th>low</th>\n",
       "      <th>close</th>\n",
       "      <th>volume</th>\n",
       "      <th>open</th>\n",
       "      <th>high</th>\n",
       "      <th>low</th>\n",
       "      <th>close</th>\n",
       "      <th>volume</th>\n",
       "      <th>...</th>\n",
       "      <th>open</th>\n",
       "      <th>high</th>\n",
       "      <th>low</th>\n",
       "      <th>close</th>\n",
       "      <th>volume</th>\n",
       "      <th>open</th>\n",
       "      <th>high</th>\n",
       "      <th>low</th>\n",
       "      <th>close</th>\n",
       "      <th>volume</th>\n",
       "    </tr>\n",
       "    <tr>\n",
       "      <th>time</th>\n",
       "      <th></th>\n",
       "      <th></th>\n",
       "      <th></th>\n",
       "      <th></th>\n",
       "      <th></th>\n",
       "      <th></th>\n",
       "      <th></th>\n",
       "      <th></th>\n",
       "      <th></th>\n",
       "      <th></th>\n",
       "      <th></th>\n",
       "      <th></th>\n",
       "      <th></th>\n",
       "      <th></th>\n",
       "      <th></th>\n",
       "      <th></th>\n",
       "      <th></th>\n",
       "      <th></th>\n",
       "      <th></th>\n",
       "      <th></th>\n",
       "      <th></th>\n",
       "    </tr>\n",
       "  </thead>\n",
       "  <tbody>\n",
       "    <tr>\n",
       "      <th>2020-01-02 00:00:00-05:00</th>\n",
       "      <td>296.24</td>\n",
       "      <td>300.6000</td>\n",
       "      <td>295.190</td>\n",
       "      <td>300.58</td>\n",
       "      <td>30589026</td>\n",
       "      <td>145.29</td>\n",
       "      <td>148.2000</td>\n",
       "      <td>145.1000</td>\n",
       "      <td>148.18</td>\n",
       "      <td>8086298</td>\n",
       "      <td>...</td>\n",
       "      <td>323.54</td>\n",
       "      <td>324.85</td>\n",
       "      <td>322.53</td>\n",
       "      <td>324.85</td>\n",
       "      <td>45862759</td>\n",
       "      <td>22.32</td>\n",
       "      <td>23.16</td>\n",
       "      <td>22.1400</td>\n",
       "      <td>23.0200</td>\n",
       "      <td>11241313.0</td>\n",
       "    </tr>\n",
       "    <tr>\n",
       "      <th>2020-01-03 00:00:00-05:00</th>\n",
       "      <td>297.15</td>\n",
       "      <td>300.5800</td>\n",
       "      <td>296.500</td>\n",
       "      <td>297.38</td>\n",
       "      <td>31609363</td>\n",
       "      <td>146.40</td>\n",
       "      <td>147.9000</td>\n",
       "      <td>146.0549</td>\n",
       "      <td>146.48</td>\n",
       "      <td>5618868</td>\n",
       "      <td>...</td>\n",
       "      <td>321.16</td>\n",
       "      <td>323.64</td>\n",
       "      <td>321.10</td>\n",
       "      <td>322.44</td>\n",
       "      <td>55090099</td>\n",
       "      <td>22.50</td>\n",
       "      <td>22.92</td>\n",
       "      <td>22.3803</td>\n",
       "      <td>22.4600</td>\n",
       "      <td>6300110.0</td>\n",
       "    </tr>\n",
       "    <tr>\n",
       "      <th>2020-01-06 00:00:00-05:00</th>\n",
       "      <td>293.79</td>\n",
       "      <td>299.9600</td>\n",
       "      <td>292.750</td>\n",
       "      <td>299.78</td>\n",
       "      <td>27487207</td>\n",
       "      <td>145.54</td>\n",
       "      <td>146.0300</td>\n",
       "      <td>144.3100</td>\n",
       "      <td>145.65</td>\n",
       "      <td>7363097</td>\n",
       "      <td>...</td>\n",
       "      <td>320.48</td>\n",
       "      <td>323.73</td>\n",
       "      <td>320.36</td>\n",
       "      <td>323.67</td>\n",
       "      <td>41271531</td>\n",
       "      <td>22.32</td>\n",
       "      <td>23.66</td>\n",
       "      <td>22.1600</td>\n",
       "      <td>23.5250</td>\n",
       "      <td>11773679.0</td>\n",
       "    </tr>\n",
       "    <tr>\n",
       "      <th>2020-01-07 00:00:00-05:00</th>\n",
       "      <td>299.84</td>\n",
       "      <td>300.9000</td>\n",
       "      <td>297.480</td>\n",
       "      <td>298.27</td>\n",
       "      <td>24353387</td>\n",
       "      <td>145.99</td>\n",
       "      <td>146.8699</td>\n",
       "      <td>145.4200</td>\n",
       "      <td>145.68</td>\n",
       "      <td>5725258</td>\n",
       "      <td>...</td>\n",
       "      <td>323.02</td>\n",
       "      <td>323.54</td>\n",
       "      <td>322.24</td>\n",
       "      <td>322.73</td>\n",
       "      <td>33333873</td>\n",
       "      <td>23.53</td>\n",
       "      <td>23.95</td>\n",
       "      <td>23.2200</td>\n",
       "      <td>23.8200</td>\n",
       "      <td>9560819.0</td>\n",
       "    </tr>\n",
       "    <tr>\n",
       "      <th>2020-01-08 00:00:00-05:00</th>\n",
       "      <td>297.16</td>\n",
       "      <td>304.4399</td>\n",
       "      <td>297.156</td>\n",
       "      <td>303.15</td>\n",
       "      <td>28984028</td>\n",
       "      <td>145.49</td>\n",
       "      <td>146.1300</td>\n",
       "      <td>144.8200</td>\n",
       "      <td>145.45</td>\n",
       "      <td>5742454</td>\n",
       "      <td>...</td>\n",
       "      <td>322.94</td>\n",
       "      <td>325.78</td>\n",
       "      <td>322.69</td>\n",
       "      <td>324.42</td>\n",
       "      <td>53033838</td>\n",
       "      <td>23.61</td>\n",
       "      <td>24.26</td>\n",
       "      <td>23.2500</td>\n",
       "      <td>23.7645</td>\n",
       "      <td>6991680.0</td>\n",
       "    </tr>\n",
       "  </tbody>\n",
       "</table>\n",
       "<p>5 rows × 30 columns</p>\n",
       "</div>"
      ],
      "text/plain": [
       "                             AAPL                                       \\\n",
       "                             open      high      low   close    volume   \n",
       "time                                                                     \n",
       "2020-01-02 00:00:00-05:00  296.24  300.6000  295.190  300.58  30589026   \n",
       "2020-01-03 00:00:00-05:00  297.15  300.5800  296.500  297.38  31609363   \n",
       "2020-01-06 00:00:00-05:00  293.79  299.9600  292.750  299.78  27487207   \n",
       "2020-01-07 00:00:00-05:00  299.84  300.9000  297.480  298.27  24353387   \n",
       "2020-01-08 00:00:00-05:00  297.16  304.4399  297.156  303.15  28984028   \n",
       "\n",
       "                              DIS                                       ...  \\\n",
       "                             open      high       low   close   volume  ...   \n",
       "time                                                                    ...   \n",
       "2020-01-02 00:00:00-05:00  145.29  148.2000  145.1000  148.18  8086298  ...   \n",
       "2020-01-03 00:00:00-05:00  146.40  147.9000  146.0549  146.48  5618868  ...   \n",
       "2020-01-06 00:00:00-05:00  145.54  146.0300  144.3100  145.65  7363097  ...   \n",
       "2020-01-07 00:00:00-05:00  145.99  146.8699  145.4200  145.68  5725258  ...   \n",
       "2020-01-08 00:00:00-05:00  145.49  146.1300  144.8200  145.45  5742454  ...   \n",
       "\n",
       "                              SPY                                     WORK  \\\n",
       "                             open    high     low   close    volume   open   \n",
       "time                                                                         \n",
       "2020-01-02 00:00:00-05:00  323.54  324.85  322.53  324.85  45862759  22.32   \n",
       "2020-01-03 00:00:00-05:00  321.16  323.64  321.10  322.44  55090099  22.50   \n",
       "2020-01-06 00:00:00-05:00  320.48  323.73  320.36  323.67  41271531  22.32   \n",
       "2020-01-07 00:00:00-05:00  323.02  323.54  322.24  322.73  33333873  23.53   \n",
       "2020-01-08 00:00:00-05:00  322.94  325.78  322.69  324.42  53033838  23.61   \n",
       "\n",
       "                                                                \n",
       "                            high      low    close      volume  \n",
       "time                                                            \n",
       "2020-01-02 00:00:00-05:00  23.16  22.1400  23.0200  11241313.0  \n",
       "2020-01-03 00:00:00-05:00  22.92  22.3803  22.4600   6300110.0  \n",
       "2020-01-06 00:00:00-05:00  23.66  22.1600  23.5250  11773679.0  \n",
       "2020-01-07 00:00:00-05:00  23.95  23.2200  23.8200   9560819.0  \n",
       "2020-01-08 00:00:00-05:00  24.26  23.2500  23.7645   6991680.0  \n",
       "\n",
       "[5 rows x 30 columns]"
      ]
     },
     "execution_count": 6,
     "metadata": {},
     "output_type": "execute_result"
    }
   ],
   "source": [
    "# Set timeframe to '1D'\n",
    "timeframe = \"1D\"\n",
    "\n",
    "# Set start and end datetimes of 1 year, between now and 365 days ago.\n",
    "start_date = pd.Timestamp(\"2020-01-01\", tz=\"America/New_York\").isoformat()\n",
    "end_date = pd.Timestamp(\"2021-09-01\", tz=\"America/New_York\").isoformat()\n",
    "\n",
    "# Set the stock tickers\n",
    "tickers = [\"SPY\", \"LUV\", \"DIS\", \"AAPL\", \"SBUX\", \"WORK\"]\n",
    "\n",
    "# Get 1 year's worth of historical data for all stocks\n",
    "df_ticker = api.get_barset(\n",
    "    tickers,\n",
    "    timeframe,\n",
    "    start=start_date,\n",
    "    end=end_date,\n",
    "    limit=1000,\n",
    ").df\n",
    "\n",
    "# Display sample data\n",
    "df_ticker.head()"
   ]
  },
  {
   "cell_type": "markdown",
   "metadata": {},
   "source": [
    "### Create a new DataFrame and store the closing prices of each stock."
   ]
  },
  {
   "cell_type": "code",
   "execution_count": 7,
   "metadata": {},
   "outputs": [
    {
     "data": {
      "text/html": [
       "<div>\n",
       "<style scoped>\n",
       "    .dataframe tbody tr th:only-of-type {\n",
       "        vertical-align: middle;\n",
       "    }\n",
       "\n",
       "    .dataframe tbody tr th {\n",
       "        vertical-align: top;\n",
       "    }\n",
       "\n",
       "    .dataframe thead th {\n",
       "        text-align: right;\n",
       "    }\n",
       "</style>\n",
       "<table border=\"1\" class=\"dataframe\">\n",
       "  <thead>\n",
       "    <tr style=\"text-align: right;\">\n",
       "      <th></th>\n",
       "      <th>SPY</th>\n",
       "      <th>LUV</th>\n",
       "      <th>DIS</th>\n",
       "      <th>AAPL</th>\n",
       "      <th>SBUX</th>\n",
       "      <th>WORK</th>\n",
       "    </tr>\n",
       "  </thead>\n",
       "  <tbody>\n",
       "    <tr>\n",
       "      <th>2020-01-02</th>\n",
       "      <td>324.85</td>\n",
       "      <td>54.85</td>\n",
       "      <td>148.18</td>\n",
       "      <td>300.58</td>\n",
       "      <td>89.35</td>\n",
       "      <td>23.0200</td>\n",
       "    </tr>\n",
       "    <tr>\n",
       "      <th>2020-01-03</th>\n",
       "      <td>322.44</td>\n",
       "      <td>54.33</td>\n",
       "      <td>146.48</td>\n",
       "      <td>297.38</td>\n",
       "      <td>88.83</td>\n",
       "      <td>22.4600</td>\n",
       "    </tr>\n",
       "    <tr>\n",
       "      <th>2020-01-06</th>\n",
       "      <td>323.67</td>\n",
       "      <td>54.14</td>\n",
       "      <td>145.65</td>\n",
       "      <td>299.78</td>\n",
       "      <td>88.13</td>\n",
       "      <td>23.5250</td>\n",
       "    </tr>\n",
       "    <tr>\n",
       "      <th>2020-01-07</th>\n",
       "      <td>322.73</td>\n",
       "      <td>54.29</td>\n",
       "      <td>145.68</td>\n",
       "      <td>298.27</td>\n",
       "      <td>87.87</td>\n",
       "      <td>23.8200</td>\n",
       "    </tr>\n",
       "    <tr>\n",
       "      <th>2020-01-08</th>\n",
       "      <td>324.42</td>\n",
       "      <td>54.37</td>\n",
       "      <td>145.45</td>\n",
       "      <td>303.15</td>\n",
       "      <td>88.89</td>\n",
       "      <td>23.7645</td>\n",
       "    </tr>\n",
       "  </tbody>\n",
       "</table>\n",
       "</div>"
      ],
      "text/plain": [
       "               SPY    LUV     DIS    AAPL   SBUX     WORK\n",
       "2020-01-02  324.85  54.85  148.18  300.58  89.35  23.0200\n",
       "2020-01-03  322.44  54.33  146.48  297.38  88.83  22.4600\n",
       "2020-01-06  323.67  54.14  145.65  299.78  88.13  23.5250\n",
       "2020-01-07  322.73  54.29  145.68  298.27  87.87  23.8200\n",
       "2020-01-08  324.42  54.37  145.45  303.15  88.89  23.7645"
      ]
     },
     "execution_count": 7,
     "metadata": {},
     "output_type": "execute_result"
    }
   ],
   "source": [
    "# Create empty DataFrame for closing prices\n",
    "df_closing_prices = pd.DataFrame()\n",
    "\n",
    "# Fetch the closing prices for all the tickers\n",
    "for ticker in tickers:\n",
    "    df_closing_prices[ticker] = df_ticker[ticker][\"close\"]\n",
    "\n",
    "# Drop the time component of the date\n",
    "df_closing_prices.index = df_closing_prices.index.date\n",
    "\n",
    "# Display sample data\n",
    "df_closing_prices.head()"
   ]
  },
  {
   "cell_type": "markdown",
   "metadata": {},
   "source": [
    "### Calculate the daily returns for each stock using the `pct_change()` function"
   ]
  },
  {
   "cell_type": "code",
   "execution_count": 8,
   "metadata": {},
   "outputs": [
    {
     "data": {
      "text/html": [
       "<div>\n",
       "<style scoped>\n",
       "    .dataframe tbody tr th:only-of-type {\n",
       "        vertical-align: middle;\n",
       "    }\n",
       "\n",
       "    .dataframe tbody tr th {\n",
       "        vertical-align: top;\n",
       "    }\n",
       "\n",
       "    .dataframe thead th {\n",
       "        text-align: right;\n",
       "    }\n",
       "</style>\n",
       "<table border=\"1\" class=\"dataframe\">\n",
       "  <thead>\n",
       "    <tr style=\"text-align: right;\">\n",
       "      <th></th>\n",
       "      <th>SPY</th>\n",
       "      <th>LUV</th>\n",
       "      <th>DIS</th>\n",
       "      <th>AAPL</th>\n",
       "      <th>SBUX</th>\n",
       "      <th>WORK</th>\n",
       "    </tr>\n",
       "  </thead>\n",
       "  <tbody>\n",
       "    <tr>\n",
       "      <th>2020-01-03</th>\n",
       "      <td>-0.007419</td>\n",
       "      <td>-0.009480</td>\n",
       "      <td>-0.011473</td>\n",
       "      <td>-0.010646</td>\n",
       "      <td>-0.005820</td>\n",
       "      <td>-0.024327</td>\n",
       "    </tr>\n",
       "    <tr>\n",
       "      <th>2020-01-06</th>\n",
       "      <td>0.003815</td>\n",
       "      <td>-0.003497</td>\n",
       "      <td>-0.005666</td>\n",
       "      <td>0.008070</td>\n",
       "      <td>-0.007880</td>\n",
       "      <td>0.047418</td>\n",
       "    </tr>\n",
       "    <tr>\n",
       "      <th>2020-01-07</th>\n",
       "      <td>-0.002904</td>\n",
       "      <td>0.002771</td>\n",
       "      <td>0.000206</td>\n",
       "      <td>-0.005037</td>\n",
       "      <td>-0.002950</td>\n",
       "      <td>0.012540</td>\n",
       "    </tr>\n",
       "    <tr>\n",
       "      <th>2020-01-08</th>\n",
       "      <td>0.005237</td>\n",
       "      <td>0.001474</td>\n",
       "      <td>-0.001579</td>\n",
       "      <td>0.016361</td>\n",
       "      <td>0.011608</td>\n",
       "      <td>-0.002330</td>\n",
       "    </tr>\n",
       "    <tr>\n",
       "      <th>2020-01-09</th>\n",
       "      <td>0.006781</td>\n",
       "      <td>-0.001287</td>\n",
       "      <td>-0.004469</td>\n",
       "      <td>0.021639</td>\n",
       "      <td>0.018225</td>\n",
       "      <td>-0.023754</td>\n",
       "    </tr>\n",
       "  </tbody>\n",
       "</table>\n",
       "</div>"
      ],
      "text/plain": [
       "                 SPY       LUV       DIS      AAPL      SBUX      WORK\n",
       "2020-01-03 -0.007419 -0.009480 -0.011473 -0.010646 -0.005820 -0.024327\n",
       "2020-01-06  0.003815 -0.003497 -0.005666  0.008070 -0.007880  0.047418\n",
       "2020-01-07 -0.002904  0.002771  0.000206 -0.005037 -0.002950  0.012540\n",
       "2020-01-08  0.005237  0.001474 -0.001579  0.016361  0.011608 -0.002330\n",
       "2020-01-09  0.006781 -0.001287 -0.004469  0.021639  0.018225 -0.023754"
      ]
     },
     "execution_count": 8,
     "metadata": {},
     "output_type": "execute_result"
    }
   ],
   "source": [
    "# Compute daily returns\n",
    "df_daily_returns = df_closing_prices.pct_change().dropna()\n",
    "\n",
    "# Display sample data\n",
    "df_daily_returns.head()"
   ]
  },
  {
   "cell_type": "markdown",
   "metadata": {},
   "source": [
    "### Plot Distributions"
   ]
  },
  {
   "cell_type": "code",
   "execution_count": 9,
   "metadata": {},
   "outputs": [
    {
     "data": {
      "text/plain": [
       "<AxesSubplot:title={'center':'Daily Returns'}, ylabel='Frequency'>"
      ]
     },
     "execution_count": 9,
     "metadata": {},
     "output_type": "execute_result"
    },
    {
     "data": {
      "image/png": "[encoded data removed]",
      "text/plain": [
       "<Figure size 432x288 with 1 Axes>"
      ]
     },
     "metadata": {
      "needs_background": "light"
     },
     "output_type": "display_data"
    }
   ],
   "source": [
    "# Visualize the distribution of daily returns across all stocks using a histogram plot\n",
    "# Hint: To make the plot easier to read, set the alpha arguement to 0.5\n",
    "df_daily_returns.plot.hist(alpha=0.5, title=\"Daily Returns\")"
   ]
  },
  {
   "cell_type": "markdown",
   "metadata": {},
   "source": [
    "<font color='red'>Comment</font>\n",
    "\n",
    "Which is more volatile?\n",
    "\n",
    "Monte Carlo is showing us the probabilistic results. What could happen, and the associated **likelihood**. It also gives us helpful visuals. "
   ]
  },
  {
   "cell_type": "code",
   "execution_count": 10,
   "metadata": {},
   "outputs": [
    {
     "data": {
      "text/plain": [
       "<AxesSubplot:title={'center':'Daily Returns'}, ylabel='Density'>"
      ]
     },
     "execution_count": 10,
     "metadata": {},
     "output_type": "execute_result"
    },
    {
     "data": {
      "image/png": "[encoded data removed]",
      "text/plain": [
       "<Figure size 432x288 with 1 Axes>"
      ]
     },
     "metadata": {
      "needs_background": "light"
     },
     "output_type": "display_data"
    }
   ],
   "source": [
    "# Visualize the distribution of daily returns across all stocks using a density plot\n",
    "df_daily_returns.plot.density(title=\"Daily Returns\")"
   ]
  },
  {
   "cell_type": "markdown",
   "metadata": {},
   "source": [
    "<font color='red'>Comment</font>\n",
    "\n",
    "Which is more volatile?"
   ]
  },
  {
   "cell_type": "code",
   "execution_count": null,
   "metadata": {},
   "outputs": [],
   "source": []
  }
 ],
 "metadata": {
  "kernel_info": {
   "name": "python3"
  },
  "kernelspec": {
   "display_name": "Python 3",
   "language": "python",
   "name": "python3"
  },
  "language_info": {
   "codemirror_mode": {
    "name": "ipython",
    "version": 3
   },
   "file_extension": ".py",
   "mimetype": "text/x-python",
   "name": "python",
   "nbconvert_exporter": "python",
   "pygments_lexer": "ipython3",
   "version": "3.7.10"
  },
  "nteract": {
   "version": "0.12.3"
  }
 },
 "nbformat": 4,
 "nbformat_minor": 4
}
